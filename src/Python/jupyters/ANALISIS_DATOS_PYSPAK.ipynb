{
 "cells": [
  {
   "cell_type": "code",
   "execution_count": 1,
   "metadata": {},
   "outputs": [],
   "source": [
    "#Python 3.6.9\n",
    "#https://www.datos.gov.co/Inclusi-n-Social-y-Reconciliaci-n/Beneficiarios-M-s-Familias-en-Acci-n/xfif-myr2/data_preview\n",
    "#https://www.datos.gov.co/Ambiente-y-Desarrollo-Sostenible/Precipitaciones-Totales-Mensuales/mb4n-6m2g/about_data\n",
    "path = \"/media/sf_SHARE_VIRTUAL_MACHINE/Precipitaciones_Totales_Mensuales_20240829.csv\""
   ]
  },
  {
   "cell_type": "code",
   "execution_count": 2,
   "metadata": {},
   "outputs": [],
   "source": [
    "#!pip install pandas\n",
    "#!pip install plotly\n",
    "#!pip install matplotlib\n",
    "#!pip install \"gluonts[torch]\"\n",
    "##!pip install nbformat==4.2.0"
   ]
  },
  {
   "cell_type": "code",
   "execution_count": 3,
   "metadata": {},
   "outputs": [],
   "source": [
    "#import pandas as pd\n",
    "# polars as pl\n",
    "import pandas as pd\n",
    "import plotly.express as px\n",
    "from pyspark.sql import SparkSession\n",
    "from pyspark.sql.functions import mean, stddev, min, max, round, col,isnan, when, count\n",
    "import matplotlib.pyplot as plt\n",
    "import plotly.graph_objects as go\n",
    "from pyspark.sql.types import NumericType, StringType"
   ]
  },
  {
   "cell_type": "code",
   "execution_count": null,
   "metadata": {},
   "outputs": [],
   "source": []
  },
  {
   "cell_type": "code",
   "execution_count": 4,
   "metadata": {},
   "outputs": [],
   "source": [
    "#%%time\n",
    "#df=pd.read_csv(path)\n",
    "#12.7"
   ]
  },
  {
   "cell_type": "code",
   "execution_count": 5,
   "metadata": {},
   "outputs": [],
   "source": [
    "#%%time\n",
    "#df=pl.read_csv(path)\n",
    "#798 ms\n",
    "#df.shape;#(3958594, 22)"
   ]
  },
  {
   "cell_type": "markdown",
   "metadata": {},
   "source": [
    "# Read Data-CSV"
   ]
  },
  {
   "cell_type": "code",
   "execution_count": 6,
   "metadata": {},
   "outputs": [
    {
     "name": "stderr",
     "output_type": "stream",
     "text": [
      "24/09/07 20:41:39 WARN Utils: Your hostname, stevens resolves to a loopback address: 127.0.1.1; using 10.0.2.15 instead (on interface enp0s3)\n",
      "24/09/07 20:41:39 WARN Utils: Set SPARK_LOCAL_IP if you need to bind to another address\n",
      "Setting default log level to \"WARN\".\n",
      "To adjust logging level use sc.setLogLevel(newLevel). For SparkR, use setLogLevel(newLevel).\n",
      "24/09/07 20:41:39 WARN NativeCodeLoader: Unable to load native-hadoop library for your platform... using builtin-java classes where applicable\n"
     ]
    },
    {
     "name": "stdout",
     "output_type": "stream",
     "text": [
      "+-------------+-------+------+------+---------+---------+----+-----+-------+-----+-----+----+-----+-----+------+----------+-------+---------+---------+\n",
      "|     ESTACIÓN| CÓDIGO|   X=N|   Y=E|MUNICIPIO|   CUENCA| AÑO|ENERO|FEBRERO|MARZO|ABRIL|MAYO|JUNIO|JULIO|AGOSTO|SEPTIEMBRE|OCTUBRE|NOVIEMBRE|DICIEMBRE|\n",
      "+-------------+-------+------+------+---------+---------+----+-----+-------+-----+-----+----+-----+-----+------+----------+-------+---------+---------+\n",
      "|Pajas Blancas|2119022|973320|944710|     Nilo|R. Paguey|1995|  0.0|    0.0|  0.0|  0.0| 0.0|  0.0|  0.0|   0.0|      31.5|  190.0|    153.6|     76.2|\n",
      "|Pajas Blancas|2119022|973320|944710|     Nilo|R. Paguey|1996|295.9|  127.2|247.5|149.2| 0.0|  0.0|  0.0|   0.0|       0.0|    0.0|      0.0|    115.2|\n",
      "+-------------+-------+------+------+---------+---------+----+-----+-------+-----+-----+----+-----+-----+------+----------+-------+---------+---------+\n",
      "only showing top 2 rows\n",
      "\n",
      "CPU times: user 17.5 ms, sys: 17.4 ms, total: 34.9 ms\n",
      "Wall time: 6.78 s\n"
     ]
    }
   ],
   "source": [
    "%%time\n",
    "# Crear una sesión de Spark\n",
    "spark = SparkSession.builder.appName(\"CSVAnalysis\").getOrCreate()\n",
    "\n",
    "# Leer el archivo CSV\n",
    "df = spark.read.csv(path, header=True, inferSchema=True)\n",
    "\n",
    "# 598 ms\n",
    "# Mostrar las primeras filas del DataFrame\n",
    "df.show(2)"
   ]
  },
  {
   "cell_type": "code",
   "execution_count": 7,
   "metadata": {},
   "outputs": [
    {
     "name": "stdout",
     "output_type": "stream",
     "text": [
      "numero de filas es 6196 y el numero de columnas es 19\n"
     ]
    }
   ],
   "source": [
    "print(f\"numero de filas es {df.count()} y el numero de columnas es {len(df.columns)}\")"
   ]
  },
  {
   "cell_type": "code",
   "execution_count": 8,
   "metadata": {},
   "outputs": [
    {
     "name": "stdout",
     "output_type": "stream",
     "text": [
      "+--------+------+---+---+---------+------+---+-----+-------+-----+-----+----+-----+-----+------+----------+-------+---------+---------+\n",
      "|ESTACIÓN|CÓDIGO|X=N|Y=E|MUNICIPIO|CUENCA|AÑO|ENERO|FEBRERO|MARZO|ABRIL|MAYO|JUNIO|JULIO|AGOSTO|SEPTIEMBRE|OCTUBRE|NOVIEMBRE|DICIEMBRE|\n",
      "+--------+------+---+---+---------+------+---+-----+-------+-----+-----+----+-----+-----+------+----------+-------+---------+---------+\n",
      "|       0|     0|  0|  0|        0|     0|  0|    0|      0|    0|    0|   0|    1|    0|     0|         0|      0|        0|        0|\n",
      "+--------+------+---+---+---------+------+---+-----+-------+-----+-----+----+-----+-----+------+----------+-------+---------+---------+\n",
      "\n"
     ]
    }
   ],
   "source": [
    "#nas por columnaS\n",
    "df.select([count(when(isnan(c) | col(c).isNull(), c)).alias(c) for c in df.columns]\n",
    "   ).show()"
   ]
  },
  {
   "cell_type": "code",
   "execution_count": 9,
   "metadata": {},
   "outputs": [
    {
     "name": "stdout",
     "output_type": "stream",
     "text": [
      "+------------+-------+-------+------+----------+-------------+----+-----+-------+-----+-----+-----+-----+-----+------+----------+-------+---------+---------+---------+\n",
      "|ESTACIÓN    |CÓDIGO |X=N    |Y=E   |MUNICIPIO |CUENCA       |AÑO |ENERO|FEBRERO|MARZO|ABRIL|MAYO |JUNIO|JULIO|AGOSTO|SEPTIEMBRE|OCTUBRE|NOVIEMBRE|DICIEMBRE|nan_count|\n",
      "+------------+-------+-------+------+----------+-------------+----+-----+-------+-----+-----+-----+-----+-----+------+----------+-------+---------+---------+---------+\n",
      "|La Primavera|2120557|1029900|985090|Subachoque|R. Subachoque|2019|7.1  |57.1   |128.4|69.6 |118.2|NULL |0.0  |0.0   |0.0       |0.0    |0.0      |0.0      |1        |\n",
      "+------------+-------+-------+------+----------+-------------+----+-----+-------+-----+-----+-----+-----+-----+------+----------+-------+---------+---------+---------+\n",
      "\n"
     ]
    }
   ],
   "source": [
    "# Crear una columna que cuenta los NaNs en cada fila\n",
    "count_nan_expr = sum(\n",
    "    when(col(c).isNull(), 1).otherwise(0) for c in df.columns\n",
    ")\n",
    "\n",
    "df_with_nan_count = df.withColumn('nan_count', count_nan_expr)\n",
    "\n",
    "\n",
    "# Using equal condition\n",
    "df_with_nan_count.filter(df_with_nan_count.nan_count >0).show(truncate=False)"
   ]
  },
  {
   "cell_type": "markdown",
   "metadata": {},
   "source": [
    "En el mes de junio la estacion primavera presenta en el año 2019 un valor faltante na"
   ]
  },
  {
   "cell_type": "markdown",
   "metadata": {},
   "source": [
    "Dado que los valores faltantes representan menos del 1% de los datos, podemos utilizar varios métodos de imputación dependiendo del tipo de datos y el contexto. \n",
    "\n",
    "( \"A basic strategy to use incomplete datasets is to discard entire rows and/or columns containing missing values. However, this comes at the price of losing data which may be valuable (even though incomplete). A better strategy is to impute the missing values, i.e., to infer them from the known part of the data\" [https://scikit-learn.org/stable/modules/impute.html])"
   ]
  },
  {
   "cell_type": "code",
   "execution_count": 10,
   "metadata": {},
   "outputs": [],
   "source": [
    "# Imputar valores faltantes con la media en columnas numéricas\n",
    "\n",
    "for column in df.columns:\n",
    "    if isinstance(df.schema[column].dataType, NumericType):\n",
    "        mean_value = df.select(mean(column)).collect()[0][0]\n",
    "        df = df.na.fill({column: mean_value})"
   ]
  },
  {
   "cell_type": "code",
   "execution_count": 11,
   "metadata": {},
   "outputs": [
    {
     "name": "stdout",
     "output_type": "stream",
     "text": [
      "+--------+------+---+---+---------+------+---+-----+-------+-----+-----+----+-----+-----+------+----------+-------+---------+---------+\n",
      "|ESTACIÓN|CÓDIGO|X=N|Y=E|MUNICIPIO|CUENCA|AÑO|ENERO|FEBRERO|MARZO|ABRIL|MAYO|JUNIO|JULIO|AGOSTO|SEPTIEMBRE|OCTUBRE|NOVIEMBRE|DICIEMBRE|\n",
      "+--------+------+---+---+---------+------+---+-----+-------+-----+-----+----+-----+-----+------+----------+-------+---------+---------+\n",
      "|       0|     0|  0|  0|        0|     0|  0|    0|      0|    0|    0|   0|    0|    0|     0|         0|      0|        0|        0|\n",
      "+--------+------+---+---+---------+------+---+-----+-------+-----+-----+----+-----+-----+------+----------+-------+---------+---------+\n",
      "\n"
     ]
    }
   ],
   "source": [
    "#nas por columna\n",
    "df.select([count(when(isnan(c) | col(c).isNull(), c)).alias(c) for c in df.columns]\n",
    "   ).show()"
   ]
  },
  {
   "cell_type": "code",
   "execution_count": 12,
   "metadata": {},
   "outputs": [
    {
     "name": "stdout",
     "output_type": "stream",
     "text": [
      "+-------------+-------+------+------+---------+---------+----+-----+-------+-----+-----+-----+-----+-----+------+----------+-------+---------+---------+\n",
      "|     ESTACIÓN| CÓDIGO|   X=N|   Y=E|MUNICIPIO|   CUENCA| AÑO|ENERO|FEBRERO|MARZO|ABRIL| MAYO|JUNIO|JULIO|AGOSTO|SEPTIEMBRE|OCTUBRE|NOVIEMBRE|DICIEMBRE|\n",
      "+-------------+-------+------+------+---------+---------+----+-----+-------+-----+-----+-----+-----+-----+------+----------+-------+---------+---------+\n",
      "|Pajas Blancas|2119022|973320|944710|     Nilo|R. Paguey|1995|  0.0|    0.0|  0.0|  0.0|  0.0|  0.0|  0.0|   0.0|      31.5|  190.0|    153.6|     76.2|\n",
      "|Pajas Blancas|2119022|973320|944710|     Nilo|R. Paguey|1996|295.9|  127.2|247.5|149.2|  0.0|  0.0|  0.0|   0.0|       0.0|    0.0|      0.0|    115.2|\n",
      "|Pajas Blancas|2119022|973320|944710|     Nilo|R. Paguey|1997|294.2|   76.9|160.2|296.3|144.1|134.3| 20.1|   3.6|      75.3|  174.0|    182.0|    110.1|\n",
      "|Pajas Blancas|2119022|973320|944710|     Nilo|R. Paguey|1998|144.3|  118.0|209.1|438.3|292.6| 30.6| 35.2|  30.7|     103.2|  385.9|    105.4|    235.7|\n",
      "|Pajas Blancas|2119022|973320|944710|     Nilo|R. Paguey|1999| 78.3|  256.6| 83.0|339.3|108.2|236.2| 17.6|  23.7|     322.9|  337.9|    234.4|    199.5|\n",
      "+-------------+-------+------+------+---------+---------+----+-----+-------+-----+-----+-----+-----+-----+------+----------+-------+---------+---------+\n",
      "only showing top 5 rows\n",
      "\n"
     ]
    }
   ],
   "source": [
    "df.show(5)"
   ]
  },
  {
   "cell_type": "code",
   "execution_count": 13,
   "metadata": {},
   "outputs": [],
   "source": [
    "def top(df_pyspark,columna,num_top):\n",
    "    # Contar la frecuencia de los valores en la columna\n",
    "    value_counts = df_pyspark.groupBy(columna).count()\n",
    "    # Mostrar el resultado ordenado por el conteo en orden descendente\n",
    "    value_counts=value_counts.orderBy('count', ascending=False)\n",
    "    value_counts.show(num_top)\n",
    "    print(f\"existen {value_counts.count()} categorias\")\n",
    "    return(value_counts)"
   ]
  },
  {
   "cell_type": "code",
   "execution_count": 14,
   "metadata": {},
   "outputs": [
    {
     "name": "stdout",
     "output_type": "stream",
     "text": [
      "+------------------+-----+\n",
      "|          ESTACIÓN|count|\n",
      "+------------------+-----+\n",
      "|     Represa Sisga|   83|\n",
      "|         La Ramada|   82|\n",
      "|           El Pino|   81|\n",
      "|         Zipaquirá|   79|\n",
      "|            Tesoro|   74|\n",
      "|         Guatavita|   73|\n",
      "|        El Encanto|   69|\n",
      "|Isla del Santuario|   69|\n",
      "|            Checua|   66|\n",
      "|        El Salitre|   65|\n",
      "+------------------+-----+\n",
      "only showing top 10 rows\n",
      "\n",
      "existen 174 categorias\n"
     ]
    },
    {
     "data": {
      "text/plain": [
       "DataFrame[ESTACIÓN: string, count: bigint]"
      ]
     },
     "execution_count": 14,
     "metadata": {},
     "output_type": "execute_result"
    }
   ],
   "source": [
    "top(df,\"ESTACIÓN\",10)"
   ]
  },
  {
   "cell_type": "code",
   "execution_count": 15,
   "metadata": {},
   "outputs": [
    {
     "name": "stdout",
     "output_type": "stream",
     "text": [
      "+-------------+-----+\n",
      "|       CUENCA|count|\n",
      "+-------------+-----+\n",
      "|    R. Bogotá|  842|\n",
      "|   R. El Hato|  326|\n",
      "|    R. Suárez|  316|\n",
      "|    R. Bojacá|  316|\n",
      "|    R. Checua|  303|\n",
      "|R. Subachoque|  289|\n",
      "|      R. Suta|  247|\n",
      "|     R. Negro|  233|\n",
      "| Lag. Fúquene|  233|\n",
      "|  Emb. Tominé|  219|\n",
      "+-------------+-----+\n",
      "only showing top 10 rows\n",
      "\n",
      "existen 49 categorias\n"
     ]
    },
    {
     "data": {
      "text/plain": [
       "DataFrame[CUENCA: string, count: bigint]"
      ]
     },
     "execution_count": 15,
     "metadata": {},
     "output_type": "execute_result"
    }
   ],
   "source": [
    "top(df,\"CUENCA\",10)"
   ]
  },
  {
   "cell_type": "code",
   "execution_count": 16,
   "metadata": {},
   "outputs": [
    {
     "name": "stdout",
     "output_type": "stream",
     "text": [
      "+-----------------+-----+\n",
      "|        MUNICIPIO|count|\n",
      "+-----------------+-----+\n",
      "| Carmen de Carupa|  467|\n",
      "|Santafe de Bogotá|  355|\n",
      "|            Tausa|  339|\n",
      "|       Facatativá|  256|\n",
      "|       Subachoque|  251|\n",
      "|         Chocontá|  204|\n",
      "|        Sutatausa|  180|\n",
      "|           Sibaté|  176|\n",
      "|        Zipaquirá|  161|\n",
      "|      Lenguazaque|  158|\n",
      "+-----------------+-----+\n",
      "only showing top 10 rows\n",
      "\n",
      "existen 75 categorias\n"
     ]
    },
    {
     "data": {
      "text/plain": [
       "DataFrame[MUNICIPIO: string, count: bigint]"
      ]
     },
     "execution_count": 16,
     "metadata": {},
     "output_type": "execute_result"
    }
   ],
   "source": [
    "top(df,\"MUNICIPIO\",10)"
   ]
  },
  {
   "cell_type": "code",
   "execution_count": 17,
   "metadata": {},
   "outputs": [
    {
     "name": "stdout",
     "output_type": "stream",
     "text": [
      "root\n",
      " |-- ESTACIÓN: string (nullable = true)\n",
      " |-- CÓDIGO: integer (nullable = true)\n",
      " |-- X=N: integer (nullable = true)\n",
      " |-- Y=E: integer (nullable = true)\n",
      " |-- MUNICIPIO: string (nullable = true)\n",
      " |-- CUENCA: string (nullable = true)\n",
      " |-- AÑO: integer (nullable = true)\n",
      " |-- ENERO: double (nullable = false)\n",
      " |-- FEBRERO: double (nullable = false)\n",
      " |-- MARZO: double (nullable = false)\n",
      " |-- ABRIL: double (nullable = false)\n",
      " |-- MAYO: double (nullable = false)\n",
      " |-- JUNIO: double (nullable = false)\n",
      " |-- JULIO: double (nullable = false)\n",
      " |-- AGOSTO: double (nullable = false)\n",
      " |-- SEPTIEMBRE: double (nullable = false)\n",
      " |-- OCTUBRE: double (nullable = false)\n",
      " |-- NOVIEMBRE: double (nullable = false)\n",
      " |-- DICIEMBRE: double (nullable = false)\n",
      "\n"
     ]
    }
   ],
   "source": [
    "# Mostrar el esquema del DataFrame\n",
    "df.printSchema()"
   ]
  },
  {
   "cell_type": "code",
   "execution_count": 18,
   "metadata": {},
   "outputs": [
    {
     "name": "stderr",
     "output_type": "stream",
     "text": [
      "24/09/07 20:41:51 WARN SparkStringUtils: Truncated the string representation of a plan since it was too large. This behavior can be adjusted by setting 'spark.sql.debug.maxToStringFields'.\n"
     ]
    },
    {
     "name": "stdout",
     "output_type": "stream",
     "text": [
      "+-------+---------+------------------+------------------+------------------+------------+--------+------------------+-----------------+-----------------+-----------------+------------------+------------------+------------------+-----------------+------------------+------------------+------------------+------------------+------------------+\n",
      "|summary| ESTACIÓN|            CÓDIGO|               X=N|               Y=E|   MUNICIPIO|  CUENCA|               AÑO|            ENERO|          FEBRERO|            MARZO|             ABRIL|              MAYO|             JUNIO|            JULIO|            AGOSTO|        SEPTIEMBRE|           OCTUBRE|         NOVIEMBRE|         DICIEMBRE|\n",
      "+-------+---------+------------------+------------------+------------------+------------+--------+------------------+-----------------+-----------------+-----------------+------------------+------------------+------------------+-----------------+------------------+------------------+------------------+------------------+------------------+\n",
      "|  count|     6196|              6196|              6196|              6196|        6196|    6196|              6196|             6196|             6196|             6196|              6196|              6196|              6196|             6196|              6196|              6196|              6196|              6196|              6196|\n",
      "|   mean|     NULL|2259877.5472885733|1046284.0151710782|1006883.9180116204|        NULL|    NULL| 1991.077792123951|39.41709167204646|52.68902517753375|83.61478373143976|115.17916397675887|100.35997417688837| 64.85885391444695|55.39099418979988|51.694528728211786|61.787056165267884|113.49562621045807|105.31387992253072|57.101081342801805|\n",
      "| stddev|     NULL| 252684.6086841907|  69530.2010403579| 68442.88461701747|        NULL|    NULL|18.144983783754444|69.72725915948348|60.03009653251707|67.29916583198066|  82.8206874688434| 69.87433451320723|52.820465165050045|50.48153166397157| 45.24138021079316|49.989408663392275| 80.19454530254863| 79.90348933028666|  54.8201743243744|\n",
      "|    min|   Acandy|           2119022|                 0|                 0|Agua de Dios|  Bogotá|              1919|              0.0|              0.0|              0.0|               0.0|               0.0|               0.0|              0.0|               0.0|               0.0|               0.0|               0.0|               0.0|\n",
      "|    max|a Tribuna|           3509510|           1133250|           1134650|       Útica|Rionegro|              2019|           3097.0|           2797.0|           1298.0|             828.5|             823.5|             791.0|            550.0|             500.5|             498.6|             675.2|             767.0|             532.3|\n",
      "+-------+---------+------------------+------------------+------------------+------------+--------+------------------+-----------------+-----------------+-----------------+------------------+------------------+------------------+-----------------+------------------+------------------+------------------+------------------+------------------+\n",
      "\n"
     ]
    }
   ],
   "source": [
    "# Realizar un análisis descriptivo básico\n",
    "df.describe().show()"
   ]
  },
  {
   "cell_type": "code",
   "execution_count": 19,
   "metadata": {},
   "outputs": [
    {
     "name": "stdout",
     "output_type": "stream",
     "text": [
      "+-------+---------+------------------+------------------+------------------+------------+--------+------------------+-----------------+-----------------+-----------------+------------------+------------------+------------------+-----------------+------------------+------------------+------------------+------------------+------------------+\n",
      "|summary| ESTACIÓN|            CÓDIGO|               X=N|               Y=E|   MUNICIPIO|  CUENCA|               AÑO|            ENERO|          FEBRERO|            MARZO|             ABRIL|              MAYO|             JUNIO|            JULIO|            AGOSTO|        SEPTIEMBRE|           OCTUBRE|         NOVIEMBRE|         DICIEMBRE|\n",
      "+-------+---------+------------------+------------------+------------------+------------+--------+------------------+-----------------+-----------------+-----------------+------------------+------------------+------------------+-----------------+------------------+------------------+------------------+------------------+------------------+\n",
      "|  count|     6196|              6196|              6196|              6196|        6196|    6196|              6196|             6196|             6196|             6196|              6196|              6196|              6196|             6196|              6196|              6196|              6196|              6196|              6196|\n",
      "|   mean|     NULL|2259877.5472885733|1046284.0151710782|1006883.9180116204|        NULL|    NULL| 1991.077792123951|39.41709167204646|52.68902517753375|83.61478373143976|115.17916397675887|100.35997417688837| 64.85885391444695|55.39099418979988|51.694528728211786|61.787056165267884|113.49562621045807|105.31387992253072|57.101081342801805|\n",
      "| stddev|     NULL| 252684.6086841907|  69530.2010403579| 68442.88461701747|        NULL|    NULL|18.144983783754444|69.72725915948348|60.03009653251707|67.29916583198066|  82.8206874688434| 69.87433451320723|52.820465165050045|50.48153166397157| 45.24138021079316|49.989408663392275| 80.19454530254863| 79.90348933028666|  54.8201743243744|\n",
      "|    min|   Acandy|           2119022|                 0|                 0|Agua de Dios|  Bogotá|              1919|              0.0|              0.0|              0.0|               0.0|               0.0|               0.0|              0.0|               0.0|               0.0|               0.0|               0.0|               0.0|\n",
      "|    25%|     NULL|           2120156|           1018200|            987380|        NULL|    NULL|              1977|              8.6|             19.1|             37.7|              59.3|              53.5|              29.7|             22.9|              22.1|              28.0|              58.5|              52.8|              18.1|\n",
      "|    50%|     NULL|           2120565|           1053180|           1017125|        NULL|    NULL|              1993|             26.0|             40.4|             71.3|              98.7|              90.1|              55.4|             44.1|              42.1|              52.0|             102.0|              91.5|              44.0|\n",
      "|    75%|     NULL|           2401038|           1077060|           1031590|        NULL|    NULL|              2006|             53.4|             71.0|            113.4|             154.3|             134.6|              88.0|             72.7|              69.5|              83.7|             153.2|             140.4|              80.5|\n",
      "|    max|a Tribuna|           3509510|           1133250|           1134650|       Útica|Rionegro|              2019|           3097.0|           2797.0|           1298.0|             828.5|             823.5|             791.0|            550.0|             500.5|             498.6|             675.2|             767.0|             532.3|\n",
      "+-------+---------+------------------+------------------+------------------+------------+--------+------------------+-----------------+-----------------+-----------------+------------------+------------------+------------------+-----------------+------------------+------------------+------------------+------------------+------------------+\n",
      "\n"
     ]
    }
   ],
   "source": [
    "# Realizar un análisis descriptivo extendido\n",
    "df.summary().show()"
   ]
  },
  {
   "cell_type": "code",
   "execution_count": 20,
   "metadata": {},
   "outputs": [
    {
     "name": "stdout",
     "output_type": "stream",
     "text": [
      "+-----+------+---+------+\n",
      "| mean|stddev|min|   max|\n",
      "+-----+------+---+------+\n",
      "|39.42| 69.73|0.0|3097.0|\n",
      "+-----+------+---+------+\n",
      "\n"
     ]
    }
   ],
   "source": [
    "col_num='ENERO'\n",
    "\n",
    "# Calcular estadísticas específicas para una columna (ejemplo: 'columna_numerica')\n",
    "df.select(round(mean(col_num),2).alias('mean'),\n",
    "          round(stddev(col_num), 2).alias('stddev'),\n",
    "          round(min(col_num), 2).alias('min'),\n",
    "          max(col_num).alias('max')).show()"
   ]
  },
  {
   "cell_type": "code",
   "execution_count": 21,
   "metadata": {},
   "outputs": [],
   "source": [
    "CUENCA_=\"R. Bogotá\"\n",
    "MUNICIPIO_=\"Santafe de Bogotá\"\n",
    "df_group_by_estation=df.filter((df[\"CUENCA\"] == CUENCA_))\n",
    "df_group_by_estation=df_group_by_estation.filter((df[\"MUNICIPIO\"] == MUNICIPIO_))\n",
    "df_group_by_estation=df_group_by_estation.toPandas()"
   ]
  },
  {
   "cell_type": "code",
   "execution_count": 22,
   "metadata": {},
   "outputs": [
    {
     "data": {
      "text/html": [
       "<div>\n",
       "<style scoped>\n",
       "    .dataframe tbody tr th:only-of-type {\n",
       "        vertical-align: middle;\n",
       "    }\n",
       "\n",
       "    .dataframe tbody tr th {\n",
       "        vertical-align: top;\n",
       "    }\n",
       "\n",
       "    .dataframe thead th {\n",
       "        text-align: right;\n",
       "    }\n",
       "</style>\n",
       "<table border=\"1\" class=\"dataframe\">\n",
       "  <thead>\n",
       "    <tr style=\"text-align: right;\">\n",
       "      <th></th>\n",
       "      <th>ESTACIÓN</th>\n",
       "      <th>CÓDIGO</th>\n",
       "      <th>X=N</th>\n",
       "      <th>Y=E</th>\n",
       "      <th>MUNICIPIO</th>\n",
       "      <th>CUENCA</th>\n",
       "      <th>AÑO</th>\n",
       "      <th>ENERO</th>\n",
       "      <th>FEBRERO</th>\n",
       "      <th>MARZO</th>\n",
       "      <th>ABRIL</th>\n",
       "      <th>MAYO</th>\n",
       "      <th>JUNIO</th>\n",
       "      <th>JULIO</th>\n",
       "      <th>AGOSTO</th>\n",
       "      <th>SEPTIEMBRE</th>\n",
       "      <th>OCTUBRE</th>\n",
       "      <th>NOVIEMBRE</th>\n",
       "      <th>DICIEMBRE</th>\n",
       "    </tr>\n",
       "  </thead>\n",
       "  <tbody>\n",
       "    <tr>\n",
       "      <th>0</th>\n",
       "      <td>Usaquén</td>\n",
       "      <td>2120111</td>\n",
       "      <td>1010630</td>\n",
       "      <td>1005770</td>\n",
       "      <td>Santafe de Bogotá</td>\n",
       "      <td>R. Bogotá</td>\n",
       "      <td>1984</td>\n",
       "      <td>160.0</td>\n",
       "      <td>72.0</td>\n",
       "      <td>82.0</td>\n",
       "      <td>88.0</td>\n",
       "      <td>30.0</td>\n",
       "      <td>93.0</td>\n",
       "      <td>20.0</td>\n",
       "      <td>75.0</td>\n",
       "      <td>52.0</td>\n",
       "      <td>60.0</td>\n",
       "      <td>120.0</td>\n",
       "      <td>45.0</td>\n",
       "    </tr>\n",
       "    <tr>\n",
       "      <th>1</th>\n",
       "      <td>Apto Guaymaral</td>\n",
       "      <td>2120559</td>\n",
       "      <td>1023950</td>\n",
       "      <td>1001550</td>\n",
       "      <td>Santafe de Bogotá</td>\n",
       "      <td>R. Bogotá</td>\n",
       "      <td>1992</td>\n",
       "      <td>22.9</td>\n",
       "      <td>37.5</td>\n",
       "      <td>58.5</td>\n",
       "      <td>66.1</td>\n",
       "      <td>52.4</td>\n",
       "      <td>31.0</td>\n",
       "      <td>55.5</td>\n",
       "      <td>44.3</td>\n",
       "      <td>80.1</td>\n",
       "      <td>52.4</td>\n",
       "      <td>129.6</td>\n",
       "      <td>97.1</td>\n",
       "    </tr>\n",
       "    <tr>\n",
       "      <th>2</th>\n",
       "      <td>Torca</td>\n",
       "      <td>2120077</td>\n",
       "      <td>1021800</td>\n",
       "      <td>1005320</td>\n",
       "      <td>Santafe de Bogotá</td>\n",
       "      <td>R. Bogotá</td>\n",
       "      <td>1977</td>\n",
       "      <td>23.5</td>\n",
       "      <td>56.0</td>\n",
       "      <td>145.5</td>\n",
       "      <td>185.5</td>\n",
       "      <td>151.5</td>\n",
       "      <td>113.5</td>\n",
       "      <td>103.5</td>\n",
       "      <td>91.5</td>\n",
       "      <td>162.0</td>\n",
       "      <td>97.0</td>\n",
       "      <td>362.0</td>\n",
       "      <td>93.5</td>\n",
       "    </tr>\n",
       "    <tr>\n",
       "      <th>3</th>\n",
       "      <td>Usaquén</td>\n",
       "      <td>2120111</td>\n",
       "      <td>1010630</td>\n",
       "      <td>1005770</td>\n",
       "      <td>Santafe de Bogotá</td>\n",
       "      <td>R. Bogotá</td>\n",
       "      <td>1957</td>\n",
       "      <td>48.7</td>\n",
       "      <td>51.1</td>\n",
       "      <td>134.1</td>\n",
       "      <td>92.1</td>\n",
       "      <td>169.6</td>\n",
       "      <td>52.8</td>\n",
       "      <td>57.0</td>\n",
       "      <td>40.9</td>\n",
       "      <td>39.2</td>\n",
       "      <td>231.6</td>\n",
       "      <td>69.2</td>\n",
       "      <td>38.2</td>\n",
       "    </tr>\n",
       "    <tr>\n",
       "      <th>4</th>\n",
       "      <td>Torca</td>\n",
       "      <td>2120077</td>\n",
       "      <td>1021800</td>\n",
       "      <td>1005320</td>\n",
       "      <td>Santafe de Bogotá</td>\n",
       "      <td>R. Bogotá</td>\n",
       "      <td>1995</td>\n",
       "      <td>26.3</td>\n",
       "      <td>81.9</td>\n",
       "      <td>153.2</td>\n",
       "      <td>150.5</td>\n",
       "      <td>40.7</td>\n",
       "      <td>41.2</td>\n",
       "      <td>52.7</td>\n",
       "      <td>84.4</td>\n",
       "      <td>7.8</td>\n",
       "      <td>34.3</td>\n",
       "      <td>35.0</td>\n",
       "      <td>66.6</td>\n",
       "    </tr>\n",
       "    <tr>\n",
       "      <th>...</th>\n",
       "      <td>...</td>\n",
       "      <td>...</td>\n",
       "      <td>...</td>\n",
       "      <td>...</td>\n",
       "      <td>...</td>\n",
       "      <td>...</td>\n",
       "      <td>...</td>\n",
       "      <td>...</td>\n",
       "      <td>...</td>\n",
       "      <td>...</td>\n",
       "      <td>...</td>\n",
       "      <td>...</td>\n",
       "      <td>...</td>\n",
       "      <td>...</td>\n",
       "      <td>...</td>\n",
       "      <td>...</td>\n",
       "      <td>...</td>\n",
       "      <td>...</td>\n",
       "      <td>...</td>\n",
       "    </tr>\n",
       "    <tr>\n",
       "      <th>139</th>\n",
       "      <td>Torca</td>\n",
       "      <td>2120077</td>\n",
       "      <td>1021800</td>\n",
       "      <td>1005320</td>\n",
       "      <td>Santafe de Bogotá</td>\n",
       "      <td>R. Bogotá</td>\n",
       "      <td>2014</td>\n",
       "      <td>101.2</td>\n",
       "      <td>62.2</td>\n",
       "      <td>115.1</td>\n",
       "      <td>39.6</td>\n",
       "      <td>53.9</td>\n",
       "      <td>48.2</td>\n",
       "      <td>31.6</td>\n",
       "      <td>31.7</td>\n",
       "      <td>83.3</td>\n",
       "      <td>76.5</td>\n",
       "      <td>135.5</td>\n",
       "      <td>102.9</td>\n",
       "    </tr>\n",
       "    <tr>\n",
       "      <th>140</th>\n",
       "      <td>Usaquén</td>\n",
       "      <td>2120111</td>\n",
       "      <td>1010630</td>\n",
       "      <td>1005770</td>\n",
       "      <td>Santafe de Bogotá</td>\n",
       "      <td>R. Bogotá</td>\n",
       "      <td>1982</td>\n",
       "      <td>75.0</td>\n",
       "      <td>92.0</td>\n",
       "      <td>195.0</td>\n",
       "      <td>294.0</td>\n",
       "      <td>48.0</td>\n",
       "      <td>20.0</td>\n",
       "      <td>52.0</td>\n",
       "      <td>39.0</td>\n",
       "      <td>37.0</td>\n",
       "      <td>150.0</td>\n",
       "      <td>118.0</td>\n",
       "      <td>312.0</td>\n",
       "    </tr>\n",
       "    <tr>\n",
       "      <th>141</th>\n",
       "      <td>Usaquén</td>\n",
       "      <td>2120111</td>\n",
       "      <td>1010630</td>\n",
       "      <td>1005770</td>\n",
       "      <td>Santafe de Bogotá</td>\n",
       "      <td>R. Bogotá</td>\n",
       "      <td>1994</td>\n",
       "      <td>75.6</td>\n",
       "      <td>90.2</td>\n",
       "      <td>118.0</td>\n",
       "      <td>94.7</td>\n",
       "      <td>0.0</td>\n",
       "      <td>70.8</td>\n",
       "      <td>57.2</td>\n",
       "      <td>25.7</td>\n",
       "      <td>24.7</td>\n",
       "      <td>46.5</td>\n",
       "      <td>0.0</td>\n",
       "      <td>0.0</td>\n",
       "    </tr>\n",
       "    <tr>\n",
       "      <th>142</th>\n",
       "      <td>Torca</td>\n",
       "      <td>2120077</td>\n",
       "      <td>1021800</td>\n",
       "      <td>1005320</td>\n",
       "      <td>Santafe de Bogotá</td>\n",
       "      <td>R. Bogotá</td>\n",
       "      <td>1986</td>\n",
       "      <td>24.0</td>\n",
       "      <td>157.0</td>\n",
       "      <td>168.0</td>\n",
       "      <td>106.0</td>\n",
       "      <td>184.0</td>\n",
       "      <td>132.0</td>\n",
       "      <td>74.0</td>\n",
       "      <td>82.0</td>\n",
       "      <td>59.0</td>\n",
       "      <td>87.0</td>\n",
       "      <td>198.0</td>\n",
       "      <td>84.4</td>\n",
       "    </tr>\n",
       "    <tr>\n",
       "      <th>143</th>\n",
       "      <td>Torca</td>\n",
       "      <td>2120077</td>\n",
       "      <td>1021800</td>\n",
       "      <td>1005320</td>\n",
       "      <td>Santafe de Bogotá</td>\n",
       "      <td>R. Bogotá</td>\n",
       "      <td>2006</td>\n",
       "      <td>162.0</td>\n",
       "      <td>124.6</td>\n",
       "      <td>128.1</td>\n",
       "      <td>139.9</td>\n",
       "      <td>131.9</td>\n",
       "      <td>44.2</td>\n",
       "      <td>9.7</td>\n",
       "      <td>24.7</td>\n",
       "      <td>34.2</td>\n",
       "      <td>154.5</td>\n",
       "      <td>0.0</td>\n",
       "      <td>82.7</td>\n",
       "    </tr>\n",
       "  </tbody>\n",
       "</table>\n",
       "<p>144 rows × 19 columns</p>\n",
       "</div>"
      ],
      "text/plain": [
       "           ESTACIÓN   CÓDIGO      X=N      Y=E          MUNICIPIO     CUENCA  \\\n",
       "0           Usaquén  2120111  1010630  1005770  Santafe de Bogotá  R. Bogotá   \n",
       "1    Apto Guaymaral  2120559  1023950  1001550  Santafe de Bogotá  R. Bogotá   \n",
       "2             Torca  2120077  1021800  1005320  Santafe de Bogotá  R. Bogotá   \n",
       "3           Usaquén  2120111  1010630  1005770  Santafe de Bogotá  R. Bogotá   \n",
       "4             Torca  2120077  1021800  1005320  Santafe de Bogotá  R. Bogotá   \n",
       "..              ...      ...      ...      ...                ...        ...   \n",
       "139           Torca  2120077  1021800  1005320  Santafe de Bogotá  R. Bogotá   \n",
       "140         Usaquén  2120111  1010630  1005770  Santafe de Bogotá  R. Bogotá   \n",
       "141         Usaquén  2120111  1010630  1005770  Santafe de Bogotá  R. Bogotá   \n",
       "142           Torca  2120077  1021800  1005320  Santafe de Bogotá  R. Bogotá   \n",
       "143           Torca  2120077  1021800  1005320  Santafe de Bogotá  R. Bogotá   \n",
       "\n",
       "      AÑO  ENERO  FEBRERO  MARZO  ABRIL   MAYO  JUNIO  JULIO  AGOSTO  \\\n",
       "0    1984  160.0     72.0   82.0   88.0   30.0   93.0   20.0    75.0   \n",
       "1    1992   22.9     37.5   58.5   66.1   52.4   31.0   55.5    44.3   \n",
       "2    1977   23.5     56.0  145.5  185.5  151.5  113.5  103.5    91.5   \n",
       "3    1957   48.7     51.1  134.1   92.1  169.6   52.8   57.0    40.9   \n",
       "4    1995   26.3     81.9  153.2  150.5   40.7   41.2   52.7    84.4   \n",
       "..    ...    ...      ...    ...    ...    ...    ...    ...     ...   \n",
       "139  2014  101.2     62.2  115.1   39.6   53.9   48.2   31.6    31.7   \n",
       "140  1982   75.0     92.0  195.0  294.0   48.0   20.0   52.0    39.0   \n",
       "141  1994   75.6     90.2  118.0   94.7    0.0   70.8   57.2    25.7   \n",
       "142  1986   24.0    157.0  168.0  106.0  184.0  132.0   74.0    82.0   \n",
       "143  2006  162.0    124.6  128.1  139.9  131.9   44.2    9.7    24.7   \n",
       "\n",
       "     SEPTIEMBRE  OCTUBRE  NOVIEMBRE  DICIEMBRE  \n",
       "0          52.0     60.0      120.0       45.0  \n",
       "1          80.1     52.4      129.6       97.1  \n",
       "2         162.0     97.0      362.0       93.5  \n",
       "3          39.2    231.6       69.2       38.2  \n",
       "4           7.8     34.3       35.0       66.6  \n",
       "..          ...      ...        ...        ...  \n",
       "139        83.3     76.5      135.5      102.9  \n",
       "140        37.0    150.0      118.0      312.0  \n",
       "141        24.7     46.5        0.0        0.0  \n",
       "142        59.0     87.0      198.0       84.4  \n",
       "143        34.2    154.5        0.0       82.7  \n",
       "\n",
       "[144 rows x 19 columns]"
      ]
     },
     "execution_count": 22,
     "metadata": {},
     "output_type": "execute_result"
    }
   ],
   "source": [
    "df_group_by_estation"
   ]
  },
  {
   "cell_type": "code",
   "execution_count": 23,
   "metadata": {},
   "outputs": [],
   "source": [
    "df_group_by_estation_mean=df_group_by_estation.groupby('ESTACIÓN')[['ENERO', 'FEBRERO', 'MARZO', 'ABRIL', 'MAYO', 'JUNIO', 'JULIO', 'AGOSTO', 'SEPTIEMBRE', 'OCTUBRE', 'NOVIEMBRE', 'DICIEMBRE']].mean()"
   ]
  },
  {
   "cell_type": "code",
   "execution_count": 24,
   "metadata": {},
   "outputs": [
    {
     "data": {
      "text/plain": [
       "ESTACIÓN\n",
       "Apto Guaymaral    54\n",
       "Torca             50\n",
       "Usaquén           40\n",
       "Name: count, dtype: int64"
      ]
     },
     "execution_count": 24,
     "metadata": {},
     "output_type": "execute_result"
    }
   ],
   "source": [
    "df_group_by_estation.ESTACIÓN.value_counts()"
   ]
  },
  {
   "cell_type": "code",
   "execution_count": 25,
   "metadata": {},
   "outputs": [
    {
     "data": {
      "application/vnd.plotly.v1+json": {
       "config": {
        "plotlyServerURL": "https://plot.ly"
       },
       "data": [
        {
         "hovertemplate": "variable=1955<br>index=%{x}<br>value=%{y}<extra></extra>",
         "legendgroup": "1955",
         "line": {
          "color": "#636efa",
          "dash": "solid"
         },
         "marker": {
          "symbol": "circle"
         },
         "mode": "lines",
         "name": "1955",
         "orientation": "v",
         "showlegend": true,
         "type": "scatter",
         "x": [
          "9999-01-01",
          "9999-02-01",
          "9999-03-01",
          "9999-04-01",
          "9999-05-01",
          "9999-06-01",
          "9999-07-01",
          "9999-08-01",
          "9999-09-01",
          "9999-10-01",
          "9999-11-01",
          "9999-12-01"
         ],
         "xaxis": "x",
         "y": [
          0,
          18,
          94,
          75,
          43.6,
          50,
          94,
          11,
          72.9,
          227.5,
          175,
          180.9
         ],
         "yaxis": "y"
        },
        {
         "hovertemplate": "variable=1956<br>index=%{x}<br>value=%{y}<extra></extra>",
         "legendgroup": "1956",
         "line": {
          "color": "#EF553B",
          "dash": "solid"
         },
         "marker": {
          "symbol": "circle"
         },
         "mode": "lines",
         "name": "1956",
         "orientation": "v",
         "showlegend": true,
         "type": "scatter",
         "x": [
          "9999-01-01",
          "9999-02-01",
          "9999-03-01",
          "9999-04-01",
          "9999-05-01",
          "9999-06-01",
          "9999-07-01",
          "9999-08-01",
          "9999-09-01",
          "9999-10-01",
          "9999-11-01",
          "9999-12-01"
         ],
         "xaxis": "x",
         "y": [
          73.6,
          104.1,
          79.1,
          60.2,
          46.1,
          86.9,
          37.3,
          44.8,
          58.6,
          147,
          83.5,
          180.3
         ],
         "yaxis": "y"
        },
        {
         "hovertemplate": "variable=1957<br>index=%{x}<br>value=%{y}<extra></extra>",
         "legendgroup": "1957",
         "line": {
          "color": "#00cc96",
          "dash": "solid"
         },
         "marker": {
          "symbol": "circle"
         },
         "mode": "lines",
         "name": "1957",
         "orientation": "v",
         "showlegend": true,
         "type": "scatter",
         "x": [
          "9999-01-01",
          "9999-02-01",
          "9999-03-01",
          "9999-04-01",
          "9999-05-01",
          "9999-06-01",
          "9999-07-01",
          "9999-08-01",
          "9999-09-01",
          "9999-10-01",
          "9999-11-01",
          "9999-12-01"
         ],
         "xaxis": "x",
         "y": [
          48.7,
          51.1,
          134.1,
          92.1,
          169.6,
          52.8,
          57,
          40.9,
          39.2,
          231.6,
          69.2,
          38.2
         ],
         "yaxis": "y"
        },
        {
         "hovertemplate": "variable=1958<br>index=%{x}<br>value=%{y}<extra></extra>",
         "legendgroup": "1958",
         "line": {
          "color": "#ab63fa",
          "dash": "solid"
         },
         "marker": {
          "symbol": "circle"
         },
         "mode": "lines",
         "name": "1958",
         "orientation": "v",
         "showlegend": true,
         "type": "scatter",
         "x": [
          "9999-01-01",
          "9999-02-01",
          "9999-03-01",
          "9999-04-01",
          "9999-05-01",
          "9999-06-01",
          "9999-07-01",
          "9999-08-01",
          "9999-09-01",
          "9999-10-01",
          "9999-11-01",
          "9999-12-01"
         ],
         "xaxis": "x",
         "y": [
          75.8,
          65.5,
          41.9,
          54.5,
          53.8,
          32.6,
          29.4,
          68.3,
          41.2,
          146.8,
          233.8,
          117.9
         ],
         "yaxis": "y"
        },
        {
         "hovertemplate": "variable=1959<br>index=%{x}<br>value=%{y}<extra></extra>",
         "legendgroup": "1959",
         "line": {
          "color": "#FFA15A",
          "dash": "solid"
         },
         "marker": {
          "symbol": "circle"
         },
         "mode": "lines",
         "name": "1959",
         "orientation": "v",
         "showlegend": true,
         "type": "scatter",
         "x": [
          "9999-01-01",
          "9999-02-01",
          "9999-03-01",
          "9999-04-01",
          "9999-05-01",
          "9999-06-01",
          "9999-07-01",
          "9999-08-01",
          "9999-09-01",
          "9999-10-01",
          "9999-11-01",
          "9999-12-01"
         ],
         "xaxis": "x",
         "y": [
          26.4,
          45,
          32.8,
          57.8,
          131.7,
          61.4,
          103.7,
          59,
          52.5,
          162.4,
          155.4,
          33
         ],
         "yaxis": "y"
        },
        {
         "hovertemplate": "variable=1960<br>index=%{x}<br>value=%{y}<extra></extra>",
         "legendgroup": "1960",
         "line": {
          "color": "#19d3f3",
          "dash": "solid"
         },
         "marker": {
          "symbol": "circle"
         },
         "mode": "lines",
         "name": "1960",
         "orientation": "v",
         "showlegend": true,
         "type": "scatter",
         "x": [
          "9999-01-01",
          "9999-02-01",
          "9999-03-01",
          "9999-04-01",
          "9999-05-01",
          "9999-06-01",
          "9999-07-01",
          "9999-08-01",
          "9999-09-01",
          "9999-10-01",
          "9999-11-01",
          "9999-12-01"
         ],
         "xaxis": "x",
         "y": [
          10.6,
          77.1,
          57.8,
          114.4,
          38,
          28.4,
          53.5,
          50.7,
          47.5,
          105.7,
          75.5,
          93.3
         ],
         "yaxis": "y"
        },
        {
         "hovertemplate": "variable=1961<br>index=%{x}<br>value=%{y}<extra></extra>",
         "legendgroup": "1961",
         "line": {
          "color": "#FF6692",
          "dash": "solid"
         },
         "marker": {
          "symbol": "circle"
         },
         "mode": "lines",
         "name": "1961",
         "orientation": "v",
         "showlegend": true,
         "type": "scatter",
         "x": [
          "9999-01-01",
          "9999-02-01",
          "9999-03-01",
          "9999-04-01",
          "9999-05-01",
          "9999-06-01",
          "9999-07-01",
          "9999-08-01",
          "9999-09-01",
          "9999-10-01",
          "9999-11-01",
          "9999-12-01"
         ],
         "xaxis": "x",
         "y": [
          65.6,
          6.8,
          110.7,
          91.8,
          10.8,
          32.2,
          16,
          26.9,
          39.4,
          167.3,
          141.2,
          3.9
         ],
         "yaxis": "y"
        },
        {
         "hovertemplate": "variable=1962<br>index=%{x}<br>value=%{y}<extra></extra>",
         "legendgroup": "1962",
         "line": {
          "color": "#B6E880",
          "dash": "solid"
         },
         "marker": {
          "symbol": "circle"
         },
         "mode": "lines",
         "name": "1962",
         "orientation": "v",
         "showlegend": true,
         "type": "scatter",
         "x": [
          "9999-01-01",
          "9999-02-01",
          "9999-03-01",
          "9999-04-01",
          "9999-05-01",
          "9999-06-01",
          "9999-07-01",
          "9999-08-01",
          "9999-09-01",
          "9999-10-01",
          "9999-11-01",
          "9999-12-01"
         ],
         "xaxis": "x",
         "y": [
          102.9,
          70.4,
          93.2,
          90.2,
          116.6,
          108.7,
          41.5,
          58.9,
          37,
          118.5,
          78.3,
          85
         ],
         "yaxis": "y"
        },
        {
         "hovertemplate": "variable=1963<br>index=%{x}<br>value=%{y}<extra></extra>",
         "legendgroup": "1963",
         "line": {
          "color": "#FF97FF",
          "dash": "solid"
         },
         "marker": {
          "symbol": "circle"
         },
         "mode": "lines",
         "name": "1963",
         "orientation": "v",
         "showlegend": true,
         "type": "scatter",
         "x": [
          "9999-01-01",
          "9999-02-01",
          "9999-03-01",
          "9999-04-01",
          "9999-05-01",
          "9999-06-01",
          "9999-07-01",
          "9999-08-01",
          "9999-09-01",
          "9999-10-01",
          "9999-11-01",
          "9999-12-01"
         ],
         "xaxis": "x",
         "y": [
          43.7,
          108.8,
          86.4,
          154.1,
          126.3,
          48.2,
          30,
          31.3,
          35.2,
          91.2,
          177.4,
          10.5
         ],
         "yaxis": "y"
        },
        {
         "hovertemplate": "variable=1964<br>index=%{x}<br>value=%{y}<extra></extra>",
         "legendgroup": "1964",
         "line": {
          "color": "#FECB52",
          "dash": "solid"
         },
         "marker": {
          "symbol": "circle"
         },
         "mode": "lines",
         "name": "1964",
         "orientation": "v",
         "showlegend": true,
         "type": "scatter",
         "x": [
          "9999-01-01",
          "9999-02-01",
          "9999-03-01",
          "9999-04-01",
          "9999-05-01",
          "9999-06-01",
          "9999-07-01",
          "9999-08-01",
          "9999-09-01",
          "9999-10-01",
          "9999-11-01",
          "9999-12-01"
         ],
         "xaxis": "x",
         "y": [
          10.4,
          40.3,
          0.7,
          154.9,
          112.6,
          100.8,
          65.9,
          20.9,
          34.8,
          98.1,
          93.5,
          61.4
         ],
         "yaxis": "y"
        },
        {
         "hovertemplate": "variable=1965<br>index=%{x}<br>value=%{y}<extra></extra>",
         "legendgroup": "1965",
         "line": {
          "color": "#636efa",
          "dash": "solid"
         },
         "marker": {
          "symbol": "circle"
         },
         "mode": "lines",
         "name": "1965",
         "orientation": "v",
         "showlegend": true,
         "type": "scatter",
         "x": [
          "9999-01-01",
          "9999-02-01",
          "9999-03-01",
          "9999-04-01",
          "9999-05-01",
          "9999-06-01",
          "9999-07-01",
          "9999-08-01",
          "9999-09-01",
          "9999-10-01",
          "9999-11-01",
          "9999-12-01"
         ],
         "xaxis": "x",
         "y": [
          0,
          0,
          0,
          0,
          0,
          0,
          0,
          3.2,
          14.5,
          116.9,
          124.7,
          67.9
         ],
         "yaxis": "y"
        },
        {
         "hovertemplate": "variable=1966<br>index=%{x}<br>value=%{y}<extra></extra>",
         "legendgroup": "1966",
         "line": {
          "color": "#EF553B",
          "dash": "solid"
         },
         "marker": {
          "symbol": "circle"
         },
         "mode": "lines",
         "name": "1966",
         "orientation": "v",
         "showlegend": true,
         "type": "scatter",
         "x": [
          "9999-01-01",
          "9999-02-01",
          "9999-03-01",
          "9999-04-01",
          "9999-05-01",
          "9999-06-01",
          "9999-07-01",
          "9999-08-01",
          "9999-09-01",
          "9999-10-01",
          "9999-11-01",
          "9999-12-01"
         ],
         "xaxis": "x",
         "y": [
          2.7,
          43,
          104.8,
          38.1,
          52.7,
          132.5,
          39.9,
          76.5,
          26.6,
          105.4,
          344.3,
          199.1
         ],
         "yaxis": "y"
        },
        {
         "hovertemplate": "variable=1967<br>index=%{x}<br>value=%{y}<extra></extra>",
         "legendgroup": "1967",
         "line": {
          "color": "#00cc96",
          "dash": "solid"
         },
         "marker": {
          "symbol": "circle"
         },
         "mode": "lines",
         "name": "1967",
         "orientation": "v",
         "showlegend": true,
         "type": "scatter",
         "x": [
          "9999-01-01",
          "9999-02-01",
          "9999-03-01",
          "9999-04-01",
          "9999-05-01",
          "9999-06-01",
          "9999-07-01",
          "9999-08-01",
          "9999-09-01",
          "9999-10-01",
          "9999-11-01",
          "9999-12-01"
         ],
         "xaxis": "x",
         "y": [
          37.2,
          64.3,
          72.9,
          91.7,
          79.5,
          110.1,
          89,
          39,
          23.9,
          62.1,
          104.8,
          25.6
         ],
         "yaxis": "y"
        },
        {
         "hovertemplate": "variable=1968<br>index=%{x}<br>value=%{y}<extra></extra>",
         "legendgroup": "1968",
         "line": {
          "color": "#ab63fa",
          "dash": "solid"
         },
         "marker": {
          "symbol": "circle"
         },
         "mode": "lines",
         "name": "1968",
         "orientation": "v",
         "showlegend": true,
         "type": "scatter",
         "x": [
          "9999-01-01",
          "9999-02-01",
          "9999-03-01",
          "9999-04-01",
          "9999-05-01",
          "9999-06-01",
          "9999-07-01",
          "9999-08-01",
          "9999-09-01",
          "9999-10-01",
          "9999-11-01",
          "9999-12-01"
         ],
         "xaxis": "x",
         "y": [
          14.8,
          55.5,
          21.1,
          155.3,
          94.2,
          91.7,
          41.3,
          16.2,
          95.5,
          91.8,
          71.7,
          16.5
         ],
         "yaxis": "y"
        },
        {
         "hovertemplate": "variable=1969<br>index=%{x}<br>value=%{y}<extra></extra>",
         "legendgroup": "1969",
         "line": {
          "color": "#FFA15A",
          "dash": "solid"
         },
         "marker": {
          "symbol": "circle"
         },
         "mode": "lines",
         "name": "1969",
         "orientation": "v",
         "showlegend": true,
         "type": "scatter",
         "x": [
          "9999-01-01",
          "9999-02-01",
          "9999-03-01",
          "9999-04-01",
          "9999-05-01",
          "9999-06-01",
          "9999-07-01",
          "9999-08-01",
          "9999-09-01",
          "9999-10-01",
          "9999-11-01",
          "9999-12-01"
         ],
         "xaxis": "x",
         "y": [
          128.2,
          57.5,
          15,
          166.8,
          119.9,
          50,
          22.5,
          71.9,
          45.1,
          293.2,
          124.7,
          56.5
         ],
         "yaxis": "y"
        },
        {
         "hovertemplate": "variable=1970<br>index=%{x}<br>value=%{y}<extra></extra>",
         "legendgroup": "1970",
         "line": {
          "color": "#19d3f3",
          "dash": "solid"
         },
         "marker": {
          "symbol": "circle"
         },
         "mode": "lines",
         "name": "1970",
         "orientation": "v",
         "showlegend": true,
         "type": "scatter",
         "x": [
          "9999-01-01",
          "9999-02-01",
          "9999-03-01",
          "9999-04-01",
          "9999-05-01",
          "9999-06-01",
          "9999-07-01",
          "9999-08-01",
          "9999-09-01",
          "9999-10-01",
          "9999-11-01",
          "9999-12-01"
         ],
         "xaxis": "x",
         "y": [
          83.5,
          125.7,
          54.8,
          38,
          76.7,
          71.7,
          67,
          38.6,
          79.1,
          224.5,
          196.2,
          3.5
         ],
         "yaxis": "y"
        },
        {
         "hovertemplate": "variable=1971<br>index=%{x}<br>value=%{y}<extra></extra>",
         "legendgroup": "1971",
         "line": {
          "color": "#FF6692",
          "dash": "solid"
         },
         "marker": {
          "symbol": "circle"
         },
         "mode": "lines",
         "name": "1971",
         "orientation": "v",
         "showlegend": true,
         "type": "scatter",
         "x": [
          "9999-01-01",
          "9999-02-01",
          "9999-03-01",
          "9999-04-01",
          "9999-05-01",
          "9999-06-01",
          "9999-07-01",
          "9999-08-01",
          "9999-09-01",
          "9999-10-01",
          "9999-11-01",
          "9999-12-01"
         ],
         "xaxis": "x",
         "y": [
          83.5,
          103.5,
          189.5,
          265,
          199.5,
          93,
          91.5,
          104.5,
          107.5,
          238,
          181.5,
          141.5
         ],
         "yaxis": "y"
        },
        {
         "hovertemplate": "variable=1972<br>index=%{x}<br>value=%{y}<extra></extra>",
         "legendgroup": "1972",
         "line": {
          "color": "#B6E880",
          "dash": "solid"
         },
         "marker": {
          "symbol": "circle"
         },
         "mode": "lines",
         "name": "1972",
         "orientation": "v",
         "showlegend": true,
         "type": "scatter",
         "x": [
          "9999-01-01",
          "9999-02-01",
          "9999-03-01",
          "9999-04-01",
          "9999-05-01",
          "9999-06-01",
          "9999-07-01",
          "9999-08-01",
          "9999-09-01",
          "9999-10-01",
          "9999-11-01",
          "9999-12-01"
         ],
         "xaxis": "x",
         "y": [
          76.4,
          35.2,
          76,
          192.6,
          191,
          116,
          28,
          17,
          15,
          37,
          127,
          9
         ],
         "yaxis": "y"
        },
        {
         "hovertemplate": "variable=1973<br>index=%{x}<br>value=%{y}<extra></extra>",
         "legendgroup": "1973",
         "line": {
          "color": "#FF97FF",
          "dash": "solid"
         },
         "marker": {
          "symbol": "circle"
         },
         "mode": "lines",
         "name": "1973",
         "orientation": "v",
         "showlegend": true,
         "type": "scatter",
         "x": [
          "9999-01-01",
          "9999-02-01",
          "9999-03-01",
          "9999-04-01",
          "9999-05-01",
          "9999-06-01",
          "9999-07-01",
          "9999-08-01",
          "9999-09-01",
          "9999-10-01",
          "9999-11-01",
          "9999-12-01"
         ],
         "xaxis": "x",
         "y": [
          7.1,
          18.9,
          45.3,
          58.6,
          45,
          50.8,
          49.4,
          66.6,
          116.6,
          150.1,
          100.4,
          204.1
         ],
         "yaxis": "y"
        },
        {
         "hovertemplate": "variable=1974<br>index=%{x}<br>value=%{y}<extra></extra>",
         "legendgroup": "1974",
         "line": {
          "color": "#FECB52",
          "dash": "solid"
         },
         "marker": {
          "symbol": "circle"
         },
         "mode": "lines",
         "name": "1974",
         "orientation": "v",
         "showlegend": true,
         "type": "scatter",
         "x": [
          "9999-01-01",
          "9999-02-01",
          "9999-03-01",
          "9999-04-01",
          "9999-05-01",
          "9999-06-01",
          "9999-07-01",
          "9999-08-01",
          "9999-09-01",
          "9999-10-01",
          "9999-11-01",
          "9999-12-01"
         ],
         "xaxis": "x",
         "y": [
          48,
          48.1,
          36.6,
          85.8,
          113,
          17,
          30,
          35,
          92.5,
          72.4,
          105,
          28.3
         ],
         "yaxis": "y"
        },
        {
         "hovertemplate": "variable=1975<br>index=%{x}<br>value=%{y}<extra></extra>",
         "legendgroup": "1975",
         "line": {
          "color": "#636efa",
          "dash": "solid"
         },
         "marker": {
          "symbol": "circle"
         },
         "mode": "lines",
         "name": "1975",
         "orientation": "v",
         "showlegend": true,
         "type": "scatter",
         "x": [
          "9999-01-01",
          "9999-02-01",
          "9999-03-01",
          "9999-04-01",
          "9999-05-01",
          "9999-06-01",
          "9999-07-01",
          "9999-08-01",
          "9999-09-01",
          "9999-10-01",
          "9999-11-01",
          "9999-12-01"
         ],
         "xaxis": "x",
         "y": [
          2,
          124.4,
          71,
          80.2,
          78.7,
          46.3,
          47.1,
          67.8,
          55.3,
          88.8,
          93.8,
          131.4
         ],
         "yaxis": "y"
        },
        {
         "hovertemplate": "variable=1976<br>index=%{x}<br>value=%{y}<extra></extra>",
         "legendgroup": "1976",
         "line": {
          "color": "#EF553B",
          "dash": "solid"
         },
         "marker": {
          "symbol": "circle"
         },
         "mode": "lines",
         "name": "1976",
         "orientation": "v",
         "showlegend": true,
         "type": "scatter",
         "x": [
          "9999-01-01",
          "9999-02-01",
          "9999-03-01",
          "9999-04-01",
          "9999-05-01",
          "9999-06-01",
          "9999-07-01",
          "9999-08-01",
          "9999-09-01",
          "9999-10-01",
          "9999-11-01",
          "9999-12-01"
         ],
         "xaxis": "x",
         "y": [
          17.6,
          50.5,
          63.6,
          154.5,
          88.7,
          43.8,
          41.1,
          30.5,
          80.3,
          152.2,
          66.9,
          23.4
         ],
         "yaxis": "y"
        },
        {
         "hovertemplate": "variable=1977<br>index=%{x}<br>value=%{y}<extra></extra>",
         "legendgroup": "1977",
         "line": {
          "color": "#00cc96",
          "dash": "solid"
         },
         "marker": {
          "symbol": "circle"
         },
         "mode": "lines",
         "name": "1977",
         "orientation": "v",
         "showlegend": true,
         "type": "scatter",
         "x": [
          "9999-01-01",
          "9999-02-01",
          "9999-03-01",
          "9999-04-01",
          "9999-05-01",
          "9999-06-01",
          "9999-07-01",
          "9999-08-01",
          "9999-09-01",
          "9999-10-01",
          "9999-11-01",
          "9999-12-01"
         ],
         "xaxis": "x",
         "y": [
          23.5,
          56,
          145.5,
          185.5,
          151.5,
          113.5,
          103.5,
          91.5,
          162,
          97,
          362,
          93.5
         ],
         "yaxis": "y"
        },
        {
         "hovertemplate": "variable=1978<br>index=%{x}<br>value=%{y}<extra></extra>",
         "legendgroup": "1978",
         "line": {
          "color": "#ab63fa",
          "dash": "solid"
         },
         "marker": {
          "symbol": "circle"
         },
         "mode": "lines",
         "name": "1978",
         "orientation": "v",
         "showlegend": true,
         "type": "scatter",
         "x": [
          "9999-01-01",
          "9999-02-01",
          "9999-03-01",
          "9999-04-01",
          "9999-05-01",
          "9999-06-01",
          "9999-07-01",
          "9999-08-01",
          "9999-09-01",
          "9999-10-01",
          "9999-11-01",
          "9999-12-01"
         ],
         "xaxis": "x",
         "y": [
          17,
          65,
          91,
          141,
          101,
          69,
          57,
          49,
          65,
          97,
          87,
          62
         ],
         "yaxis": "y"
        },
        {
         "hovertemplate": "variable=1979<br>index=%{x}<br>value=%{y}<extra></extra>",
         "legendgroup": "1979",
         "line": {
          "color": "#FFA15A",
          "dash": "solid"
         },
         "marker": {
          "symbol": "circle"
         },
         "mode": "lines",
         "name": "1979",
         "orientation": "v",
         "showlegend": true,
         "type": "scatter",
         "x": [
          "9999-01-01",
          "9999-02-01",
          "9999-03-01",
          "9999-04-01",
          "9999-05-01",
          "9999-06-01",
          "9999-07-01",
          "9999-08-01",
          "9999-09-01",
          "9999-10-01",
          "9999-11-01",
          "9999-12-01"
         ],
         "xaxis": "x",
         "y": [
          18,
          4,
          37,
          86,
          89.5,
          72.8,
          41,
          57.5,
          82,
          189,
          95.5,
          44
         ],
         "yaxis": "y"
        },
        {
         "hovertemplate": "variable=1980<br>index=%{x}<br>value=%{y}<extra></extra>",
         "legendgroup": "1980",
         "line": {
          "color": "#19d3f3",
          "dash": "solid"
         },
         "marker": {
          "symbol": "circle"
         },
         "mode": "lines",
         "name": "1980",
         "orientation": "v",
         "showlegend": true,
         "type": "scatter",
         "x": [
          "9999-01-01",
          "9999-02-01",
          "9999-03-01",
          "9999-04-01",
          "9999-05-01",
          "9999-06-01",
          "9999-07-01",
          "9999-08-01",
          "9999-09-01",
          "9999-10-01",
          "9999-11-01",
          "9999-12-01"
         ],
         "xaxis": "x",
         "y": [
          59,
          256,
          69,
          157.5,
          82,
          223,
          16,
          160.5,
          110.5,
          113.5,
          110.5,
          196.5
         ],
         "yaxis": "y"
        },
        {
         "hovertemplate": "variable=1981<br>index=%{x}<br>value=%{y}<extra></extra>",
         "legendgroup": "1981",
         "line": {
          "color": "#FF6692",
          "dash": "solid"
         },
         "marker": {
          "symbol": "circle"
         },
         "mode": "lines",
         "name": "1981",
         "orientation": "v",
         "showlegend": true,
         "type": "scatter",
         "x": [
          "9999-01-01",
          "9999-02-01",
          "9999-03-01",
          "9999-04-01",
          "9999-05-01",
          "9999-06-01",
          "9999-07-01",
          "9999-08-01",
          "9999-09-01",
          "9999-10-01",
          "9999-11-01",
          "9999-12-01"
         ],
         "xaxis": "x",
         "y": [
          9.7,
          19.1,
          17.5,
          154.7,
          214.6,
          72.9,
          20.3,
          27.3,
          43.3,
          33.1,
          88.8,
          20.2
         ],
         "yaxis": "y"
        },
        {
         "hovertemplate": "variable=1982<br>index=%{x}<br>value=%{y}<extra></extra>",
         "legendgroup": "1982",
         "line": {
          "color": "#B6E880",
          "dash": "solid"
         },
         "marker": {
          "symbol": "circle"
         },
         "mode": "lines",
         "name": "1982",
         "orientation": "v",
         "showlegend": true,
         "type": "scatter",
         "x": [
          "9999-01-01",
          "9999-02-01",
          "9999-03-01",
          "9999-04-01",
          "9999-05-01",
          "9999-06-01",
          "9999-07-01",
          "9999-08-01",
          "9999-09-01",
          "9999-10-01",
          "9999-11-01",
          "9999-12-01"
         ],
         "xaxis": "x",
         "y": [
          49.1,
          25.9,
          62.9,
          196.9,
          78.4,
          16.7,
          26.3,
          25,
          25.4,
          108,
          43.6,
          39.4
         ],
         "yaxis": "y"
        },
        {
         "hovertemplate": "variable=1983<br>index=%{x}<br>value=%{y}<extra></extra>",
         "legendgroup": "1983",
         "line": {
          "color": "#FF97FF",
          "dash": "solid"
         },
         "marker": {
          "symbol": "circle"
         },
         "mode": "lines",
         "name": "1983",
         "orientation": "v",
         "showlegend": true,
         "type": "scatter",
         "x": [
          "9999-01-01",
          "9999-02-01",
          "9999-03-01",
          "9999-04-01",
          "9999-05-01",
          "9999-06-01",
          "9999-07-01",
          "9999-08-01",
          "9999-09-01",
          "9999-10-01",
          "9999-11-01",
          "9999-12-01"
         ],
         "xaxis": "x",
         "y": [
          13.1,
          32.7,
          106,
          195.4,
          72.7,
          31.5,
          37.5,
          25.9,
          25.1,
          73.5,
          17.9,
          54.2
         ],
         "yaxis": "y"
        },
        {
         "hovertemplate": "variable=1984<br>index=%{x}<br>value=%{y}<extra></extra>",
         "legendgroup": "1984",
         "line": {
          "color": "#FECB52",
          "dash": "solid"
         },
         "marker": {
          "symbol": "circle"
         },
         "mode": "lines",
         "name": "1984",
         "orientation": "v",
         "showlegend": true,
         "type": "scatter",
         "x": [
          "9999-01-01",
          "9999-02-01",
          "9999-03-01",
          "9999-04-01",
          "9999-05-01",
          "9999-06-01",
          "9999-07-01",
          "9999-08-01",
          "9999-09-01",
          "9999-10-01",
          "9999-11-01",
          "9999-12-01"
         ],
         "xaxis": "x",
         "y": [
          160,
          72,
          82,
          88,
          30,
          93,
          20,
          75,
          52,
          60,
          120,
          45
         ],
         "yaxis": "y"
        },
        {
         "hovertemplate": "variable=1985<br>index=%{x}<br>value=%{y}<extra></extra>",
         "legendgroup": "1985",
         "line": {
          "color": "#636efa",
          "dash": "solid"
         },
         "marker": {
          "symbol": "circle"
         },
         "mode": "lines",
         "name": "1985",
         "orientation": "v",
         "showlegend": true,
         "type": "scatter",
         "x": [
          "9999-01-01",
          "9999-02-01",
          "9999-03-01",
          "9999-04-01",
          "9999-05-01",
          "9999-06-01",
          "9999-07-01",
          "9999-08-01",
          "9999-09-01",
          "9999-10-01",
          "9999-11-01",
          "9999-12-01"
         ],
         "xaxis": "x",
         "y": [
          11.4,
          0,
          36.3,
          25.5,
          88.2,
          16.5,
          53.5,
          52.8,
          104.8,
          75.1,
          43.6,
          31.8
         ],
         "yaxis": "y"
        },
        {
         "hovertemplate": "variable=1986<br>index=%{x}<br>value=%{y}<extra></extra>",
         "legendgroup": "1986",
         "line": {
          "color": "#EF553B",
          "dash": "solid"
         },
         "marker": {
          "symbol": "circle"
         },
         "mode": "lines",
         "name": "1986",
         "orientation": "v",
         "showlegend": true,
         "type": "scatter",
         "x": [
          "9999-01-01",
          "9999-02-01",
          "9999-03-01",
          "9999-04-01",
          "9999-05-01",
          "9999-06-01",
          "9999-07-01",
          "9999-08-01",
          "9999-09-01",
          "9999-10-01",
          "9999-11-01",
          "9999-12-01"
         ],
         "xaxis": "x",
         "y": [
          35.7,
          136.7,
          80.2,
          59.8,
          92.3,
          77.1,
          32.9,
          29,
          63,
          258.4,
          75.9,
          12.4
         ],
         "yaxis": "y"
        },
        {
         "hovertemplate": "variable=1987<br>index=%{x}<br>value=%{y}<extra></extra>",
         "legendgroup": "1987",
         "line": {
          "color": "#00cc96",
          "dash": "solid"
         },
         "marker": {
          "symbol": "circle"
         },
         "mode": "lines",
         "name": "1987",
         "orientation": "v",
         "showlegend": true,
         "type": "scatter",
         "x": [
          "9999-01-01",
          "9999-02-01",
          "9999-03-01",
          "9999-04-01",
          "9999-05-01",
          "9999-06-01",
          "9999-07-01",
          "9999-08-01",
          "9999-09-01",
          "9999-10-01",
          "9999-11-01",
          "9999-12-01"
         ],
         "xaxis": "x",
         "y": [
          19.4,
          35.3,
          53.5,
          54.2,
          85.5,
          25.4,
          67.7,
          41.4,
          74.1,
          121.4,
          56.1,
          16.9
         ],
         "yaxis": "y"
        },
        {
         "hovertemplate": "variable=1988<br>index=%{x}<br>value=%{y}<extra></extra>",
         "legendgroup": "1988",
         "line": {
          "color": "#ab63fa",
          "dash": "solid"
         },
         "marker": {
          "symbol": "circle"
         },
         "mode": "lines",
         "name": "1988",
         "orientation": "v",
         "showlegend": true,
         "type": "scatter",
         "x": [
          "9999-01-01",
          "9999-02-01",
          "9999-03-01",
          "9999-04-01",
          "9999-05-01",
          "9999-06-01",
          "9999-07-01",
          "9999-08-01",
          "9999-09-01",
          "9999-10-01",
          "9999-11-01",
          "9999-12-01"
         ],
         "xaxis": "x",
         "y": [
          115,
          98,
          51,
          59,
          74,
          51,
          30,
          85,
          91,
          188,
          190,
          111
         ],
         "yaxis": "y"
        },
        {
         "hovertemplate": "variable=1989<br>index=%{x}<br>value=%{y}<extra></extra>",
         "legendgroup": "1989",
         "line": {
          "color": "#FFA15A",
          "dash": "solid"
         },
         "marker": {
          "symbol": "circle"
         },
         "mode": "lines",
         "name": "1989",
         "orientation": "v",
         "showlegend": true,
         "type": "scatter",
         "x": [
          "9999-01-01",
          "9999-02-01",
          "9999-03-01",
          "9999-04-01",
          "9999-05-01",
          "9999-06-01",
          "9999-07-01",
          "9999-08-01",
          "9999-09-01",
          "9999-10-01",
          "9999-11-01",
          "9999-12-01"
         ],
         "xaxis": "x",
         "y": [
          30,
          124,
          238,
          129,
          82,
          76,
          82,
          25,
          46.5,
          0,
          100,
          84.5
         ],
         "yaxis": "y"
        },
        {
         "hovertemplate": "variable=1990<br>index=%{x}<br>value=%{y}<extra></extra>",
         "legendgroup": "1990",
         "line": {
          "color": "#19d3f3",
          "dash": "solid"
         },
         "marker": {
          "symbol": "circle"
         },
         "mode": "lines",
         "name": "1990",
         "orientation": "v",
         "showlegend": true,
         "type": "scatter",
         "x": [
          "9999-01-01",
          "9999-02-01",
          "9999-03-01",
          "9999-04-01",
          "9999-05-01",
          "9999-06-01",
          "9999-07-01",
          "9999-08-01",
          "9999-09-01",
          "9999-10-01",
          "9999-11-01",
          "9999-12-01"
         ],
         "xaxis": "x",
         "y": [
          52,
          50.1,
          83.2,
          27.1,
          112.5,
          43.5,
          61.9,
          34.7,
          74.7,
          250.1,
          33.9,
          41.1
         ],
         "yaxis": "y"
        },
        {
         "hovertemplate": "variable=1991<br>index=%{x}<br>value=%{y}<extra></extra>",
         "legendgroup": "1991",
         "line": {
          "color": "#FF6692",
          "dash": "solid"
         },
         "marker": {
          "symbol": "circle"
         },
         "mode": "lines",
         "name": "1991",
         "orientation": "v",
         "showlegend": true,
         "type": "scatter",
         "x": [
          "9999-01-01",
          "9999-02-01",
          "9999-03-01",
          "9999-04-01",
          "9999-05-01",
          "9999-06-01",
          "9999-07-01",
          "9999-08-01",
          "9999-09-01",
          "9999-10-01",
          "9999-11-01",
          "9999-12-01"
         ],
         "xaxis": "x",
         "y": [
          26.2,
          24.8,
          40.2,
          55.5,
          63.9,
          31,
          80,
          60.7,
          39.8,
          41.5,
          132.9,
          38.9
         ],
         "yaxis": "y"
        },
        {
         "hovertemplate": "variable=1992<br>index=%{x}<br>value=%{y}<extra></extra>",
         "legendgroup": "1992",
         "line": {
          "color": "#B6E880",
          "dash": "solid"
         },
         "marker": {
          "symbol": "circle"
         },
         "mode": "lines",
         "name": "1992",
         "orientation": "v",
         "showlegend": true,
         "type": "scatter",
         "x": [
          "9999-01-01",
          "9999-02-01",
          "9999-03-01",
          "9999-04-01",
          "9999-05-01",
          "9999-06-01",
          "9999-07-01",
          "9999-08-01",
          "9999-09-01",
          "9999-10-01",
          "9999-11-01",
          "9999-12-01"
         ],
         "xaxis": "x",
         "y": [
          22.9,
          37.5,
          58.5,
          66.1,
          52.4,
          31,
          55.5,
          44.3,
          80.1,
          52.4,
          129.6,
          97.1
         ],
         "yaxis": "y"
        },
        {
         "hovertemplate": "variable=1993<br>index=%{x}<br>value=%{y}<extra></extra>",
         "legendgroup": "1993",
         "line": {
          "color": "#FF97FF",
          "dash": "solid"
         },
         "marker": {
          "symbol": "circle"
         },
         "mode": "lines",
         "name": "1993",
         "orientation": "v",
         "showlegend": true,
         "type": "scatter",
         "x": [
          "9999-01-01",
          "9999-02-01",
          "9999-03-01",
          "9999-04-01",
          "9999-05-01",
          "9999-06-01",
          "9999-07-01",
          "9999-08-01",
          "9999-09-01",
          "9999-10-01",
          "9999-11-01",
          "9999-12-01"
         ],
         "xaxis": "x",
         "y": [
          110.6,
          38.3,
          55.8,
          104.6,
          145.2,
          48.3,
          74.5,
          30,
          49.7,
          53,
          112.7,
          3
         ],
         "yaxis": "y"
        },
        {
         "hovertemplate": "variable=1994<br>index=%{x}<br>value=%{y}<extra></extra>",
         "legendgroup": "1994",
         "line": {
          "color": "#FECB52",
          "dash": "solid"
         },
         "marker": {
          "symbol": "circle"
         },
         "mode": "lines",
         "name": "1994",
         "orientation": "v",
         "showlegend": true,
         "type": "scatter",
         "x": [
          "9999-01-01",
          "9999-02-01",
          "9999-03-01",
          "9999-04-01",
          "9999-05-01",
          "9999-06-01",
          "9999-07-01",
          "9999-08-01",
          "9999-09-01",
          "9999-10-01",
          "9999-11-01",
          "9999-12-01"
         ],
         "xaxis": "x",
         "y": [
          28,
          116,
          79,
          93.2,
          111.1,
          61.8,
          37.8,
          50.1,
          28.9,
          103.2,
          76.5,
          13.5
         ],
         "yaxis": "y"
        },
        {
         "hovertemplate": "variable=1995<br>index=%{x}<br>value=%{y}<extra></extra>",
         "legendgroup": "1995",
         "line": {
          "color": "#636efa",
          "dash": "solid"
         },
         "marker": {
          "symbol": "circle"
         },
         "mode": "lines",
         "name": "1995",
         "orientation": "v",
         "showlegend": true,
         "type": "scatter",
         "x": [
          "9999-01-01",
          "9999-02-01",
          "9999-03-01",
          "9999-04-01",
          "9999-05-01",
          "9999-06-01",
          "9999-07-01",
          "9999-08-01",
          "9999-09-01",
          "9999-10-01",
          "9999-11-01",
          "9999-12-01"
         ],
         "xaxis": "x",
         "y": [
          26.3,
          81.9,
          153.2,
          150.5,
          40.7,
          41.2,
          52.7,
          84.4,
          7.8,
          34.3,
          35,
          66.6
         ],
         "yaxis": "y"
        },
        {
         "hovertemplate": "variable=1996<br>index=%{x}<br>value=%{y}<extra></extra>",
         "legendgroup": "1996",
         "line": {
          "color": "#EF553B",
          "dash": "solid"
         },
         "marker": {
          "symbol": "circle"
         },
         "mode": "lines",
         "name": "1996",
         "orientation": "v",
         "showlegend": true,
         "type": "scatter",
         "x": [
          "9999-01-01",
          "9999-02-01",
          "9999-03-01",
          "9999-04-01",
          "9999-05-01",
          "9999-06-01",
          "9999-07-01",
          "9999-08-01",
          "9999-09-01",
          "9999-10-01",
          "9999-11-01",
          "9999-12-01"
         ],
         "xaxis": "x",
         "y": [
          39.7,
          92.9,
          179.3,
          119.1,
          85.5,
          37.8,
          52,
          40.4,
          36.1,
          112,
          53.2,
          49
         ],
         "yaxis": "y"
        },
        {
         "hovertemplate": "variable=1997<br>index=%{x}<br>value=%{y}<extra></extra>",
         "legendgroup": "1997",
         "line": {
          "color": "#00cc96",
          "dash": "solid"
         },
         "marker": {
          "symbol": "circle"
         },
         "mode": "lines",
         "name": "1997",
         "orientation": "v",
         "showlegend": true,
         "type": "scatter",
         "x": [
          "9999-01-01",
          "9999-02-01",
          "9999-03-01",
          "9999-04-01",
          "9999-05-01",
          "9999-06-01",
          "9999-07-01",
          "9999-08-01",
          "9999-09-01",
          "9999-10-01",
          "9999-11-01",
          "9999-12-01"
         ],
         "xaxis": "x",
         "y": [
          50.5,
          0,
          0,
          65,
          44.2,
          82.7,
          36,
          27.8,
          18.4,
          63.5,
          47.5,
          18.7
         ],
         "yaxis": "y"
        },
        {
         "hovertemplate": "variable=1998<br>index=%{x}<br>value=%{y}<extra></extra>",
         "legendgroup": "1998",
         "line": {
          "color": "#ab63fa",
          "dash": "solid"
         },
         "marker": {
          "symbol": "circle"
         },
         "mode": "lines",
         "name": "1998",
         "orientation": "v",
         "showlegend": true,
         "type": "scatter",
         "x": [
          "9999-01-01",
          "9999-02-01",
          "9999-03-01",
          "9999-04-01",
          "9999-05-01",
          "9999-06-01",
          "9999-07-01",
          "9999-08-01",
          "9999-09-01",
          "9999-10-01",
          "9999-11-01",
          "9999-12-01"
         ],
         "xaxis": "x",
         "y": [
          31.8,
          22.9,
          90.3,
          37,
          125.9,
          59.6,
          79.1,
          43.9,
          74.8,
          120.5,
          82.3,
          94.8
         ],
         "yaxis": "y"
        },
        {
         "hovertemplate": "variable=1999<br>index=%{x}<br>value=%{y}<extra></extra>",
         "legendgroup": "1999",
         "line": {
          "color": "#FFA15A",
          "dash": "solid"
         },
         "marker": {
          "symbol": "circle"
         },
         "mode": "lines",
         "name": "1999",
         "orientation": "v",
         "showlegend": true,
         "type": "scatter",
         "x": [
          "9999-01-01",
          "9999-02-01",
          "9999-03-01",
          "9999-04-01",
          "9999-05-01",
          "9999-06-01",
          "9999-07-01",
          "9999-08-01",
          "9999-09-01",
          "9999-10-01",
          "9999-11-01",
          "9999-12-01"
         ],
         "xaxis": "x",
         "y": [
          70.7,
          76.7,
          136.9,
          116,
          89.9,
          130,
          18.1,
          40.2,
          128.2,
          128.6,
          85.3,
          29.7
         ],
         "yaxis": "y"
        },
        {
         "hovertemplate": "variable=2000<br>index=%{x}<br>value=%{y}<extra></extra>",
         "legendgroup": "2000",
         "line": {
          "color": "#19d3f3",
          "dash": "solid"
         },
         "marker": {
          "symbol": "circle"
         },
         "mode": "lines",
         "name": "2000",
         "orientation": "v",
         "showlegend": true,
         "type": "scatter",
         "x": [
          "9999-01-01",
          "9999-02-01",
          "9999-03-01",
          "9999-04-01",
          "9999-05-01",
          "9999-06-01",
          "9999-07-01",
          "9999-08-01",
          "9999-09-01",
          "9999-10-01",
          "9999-11-01",
          "9999-12-01"
         ],
         "xaxis": "x",
         "y": [
          18.7,
          89.4,
          111.1,
          50.1,
          60.5,
          52.6,
          73.3,
          48.6,
          144.8,
          98.3,
          90.4,
          32.5
         ],
         "yaxis": "y"
        },
        {
         "hovertemplate": "variable=2001<br>index=%{x}<br>value=%{y}<extra></extra>",
         "legendgroup": "2001",
         "line": {
          "color": "#FF6692",
          "dash": "solid"
         },
         "marker": {
          "symbol": "circle"
         },
         "mode": "lines",
         "name": "2001",
         "orientation": "v",
         "showlegend": true,
         "type": "scatter",
         "x": [
          "9999-01-01",
          "9999-02-01",
          "9999-03-01",
          "9999-04-01",
          "9999-05-01",
          "9999-06-01",
          "9999-07-01",
          "9999-08-01",
          "9999-09-01",
          "9999-10-01",
          "9999-11-01",
          "9999-12-01"
         ],
         "xaxis": "x",
         "y": [
          20.4,
          53.9,
          30.7,
          45.1,
          58.2,
          44.1,
          26.4,
          57,
          75.9,
          47,
          80.6,
          34
         ],
         "yaxis": "y"
        },
        {
         "hovertemplate": "variable=2002<br>index=%{x}<br>value=%{y}<extra></extra>",
         "legendgroup": "2002",
         "line": {
          "color": "#B6E880",
          "dash": "solid"
         },
         "marker": {
          "symbol": "circle"
         },
         "mode": "lines",
         "name": "2002",
         "orientation": "v",
         "showlegend": true,
         "type": "scatter",
         "x": [
          "9999-01-01",
          "9999-02-01",
          "9999-03-01",
          "9999-04-01",
          "9999-05-01",
          "9999-06-01",
          "9999-07-01",
          "9999-08-01",
          "9999-09-01",
          "9999-10-01",
          "9999-11-01",
          "9999-12-01"
         ],
         "xaxis": "x",
         "y": [
          22,
          27.4,
          84.4,
          132.5,
          119.9,
          76,
          30.8,
          41.8,
          49.5,
          61.1,
          25.4,
          55.1
         ],
         "yaxis": "y"
        },
        {
         "hovertemplate": "variable=2003<br>index=%{x}<br>value=%{y}<extra></extra>",
         "legendgroup": "2003",
         "line": {
          "color": "#FF97FF",
          "dash": "solid"
         },
         "marker": {
          "symbol": "circle"
         },
         "mode": "lines",
         "name": "2003",
         "orientation": "v",
         "showlegend": true,
         "type": "scatter",
         "x": [
          "9999-01-01",
          "9999-02-01",
          "9999-03-01",
          "9999-04-01",
          "9999-05-01",
          "9999-06-01",
          "9999-07-01",
          "9999-08-01",
          "9999-09-01",
          "9999-10-01",
          "9999-11-01",
          "9999-12-01"
         ],
         "xaxis": "x",
         "y": [
          43.9,
          86.7,
          69.7,
          208,
          50.6,
          91.4,
          27.5,
          46.5,
          118.5,
          330,
          195.1,
          40.7
         ],
         "yaxis": "y"
        },
        {
         "hovertemplate": "variable=2004<br>index=%{x}<br>value=%{y}<extra></extra>",
         "legendgroup": "2004",
         "line": {
          "color": "#FECB52",
          "dash": "solid"
         },
         "marker": {
          "symbol": "circle"
         },
         "mode": "lines",
         "name": "2004",
         "orientation": "v",
         "showlegend": true,
         "type": "scatter",
         "x": [
          "9999-01-01",
          "9999-02-01",
          "9999-03-01",
          "9999-04-01",
          "9999-05-01",
          "9999-06-01",
          "9999-07-01",
          "9999-08-01",
          "9999-09-01",
          "9999-10-01",
          "9999-11-01",
          "9999-12-01"
         ],
         "xaxis": "x",
         "y": [
          26.8,
          75.1,
          50.8,
          157.9,
          78.1,
          78.8,
          0,
          0,
          0,
          0,
          0,
          0
         ],
         "yaxis": "y"
        },
        {
         "hovertemplate": "variable=2005<br>index=%{x}<br>value=%{y}<extra></extra>",
         "legendgroup": "2005",
         "line": {
          "color": "#636efa",
          "dash": "solid"
         },
         "marker": {
          "symbol": "circle"
         },
         "mode": "lines",
         "name": "2005",
         "orientation": "v",
         "showlegend": true,
         "type": "scatter",
         "x": [
          "9999-01-01",
          "9999-02-01",
          "9999-03-01",
          "9999-04-01",
          "9999-05-01",
          "9999-06-01",
          "9999-07-01",
          "9999-08-01",
          "9999-09-01",
          "9999-10-01",
          "9999-11-01",
          "9999-12-01"
         ],
         "xaxis": "x",
         "y": [
          0,
          0,
          0,
          0,
          0,
          0,
          0,
          0,
          0,
          0,
          0,
          0
         ],
         "yaxis": "y"
        },
        {
         "hovertemplate": "variable=2006<br>index=%{x}<br>value=%{y}<extra></extra>",
         "legendgroup": "2006",
         "line": {
          "color": "#EF553B",
          "dash": "solid"
         },
         "marker": {
          "symbol": "circle"
         },
         "mode": "lines",
         "name": "2006",
         "orientation": "v",
         "showlegend": true,
         "type": "scatter",
         "x": [
          "9999-01-01",
          "9999-02-01",
          "9999-03-01",
          "9999-04-01",
          "9999-05-01",
          "9999-06-01",
          "9999-07-01",
          "9999-08-01",
          "9999-09-01",
          "9999-10-01",
          "9999-11-01",
          "9999-12-01"
         ],
         "xaxis": "x",
         "y": [
          28,
          0,
          0,
          0,
          0,
          0,
          0,
          0,
          0,
          0,
          0,
          4.5
         ],
         "yaxis": "y"
        },
        {
         "hovertemplate": "variable=2007<br>index=%{x}<br>value=%{y}<extra></extra>",
         "legendgroup": "2007",
         "line": {
          "color": "#00cc96",
          "dash": "solid"
         },
         "marker": {
          "symbol": "circle"
         },
         "mode": "lines",
         "name": "2007",
         "orientation": "v",
         "showlegend": true,
         "type": "scatter",
         "x": [
          "9999-01-01",
          "9999-02-01",
          "9999-03-01",
          "9999-04-01",
          "9999-05-01",
          "9999-06-01",
          "9999-07-01",
          "9999-08-01",
          "9999-09-01",
          "9999-10-01",
          "9999-11-01",
          "9999-12-01"
         ],
         "xaxis": "x",
         "y": [
          25,
          22.2,
          15.6,
          38.2,
          51.6,
          21.6,
          34.5,
          94.5,
          70.5,
          222.6,
          151.5,
          191.4
         ],
         "yaxis": "y"
        },
        {
         "hovertemplate": "variable=2008<br>index=%{x}<br>value=%{y}<extra></extra>",
         "legendgroup": "2008",
         "line": {
          "color": "#ab63fa",
          "dash": "solid"
         },
         "marker": {
          "symbol": "circle"
         },
         "mode": "lines",
         "name": "2008",
         "orientation": "v",
         "showlegend": true,
         "type": "scatter",
         "x": [
          "9999-01-01",
          "9999-02-01",
          "9999-03-01",
          "9999-04-01",
          "9999-05-01",
          "9999-06-01",
          "9999-07-01",
          "9999-08-01",
          "9999-09-01",
          "9999-10-01",
          "9999-11-01",
          "9999-12-01"
         ],
         "xaxis": "x",
         "y": [
          52.7,
          66,
          112.5,
          108.4,
          219.7,
          110,
          114.4,
          97.4,
          66,
          123,
          0,
          0
         ],
         "yaxis": "y"
        },
        {
         "hovertemplate": "variable=2009<br>index=%{x}<br>value=%{y}<extra></extra>",
         "legendgroup": "2009",
         "line": {
          "color": "#FFA15A",
          "dash": "solid"
         },
         "marker": {
          "symbol": "circle"
         },
         "mode": "lines",
         "name": "2009",
         "orientation": "v",
         "showlegend": true,
         "type": "scatter",
         "x": [
          "9999-01-01",
          "9999-02-01",
          "9999-03-01",
          "9999-04-01",
          "9999-05-01",
          "9999-06-01",
          "9999-07-01",
          "9999-08-01",
          "9999-09-01",
          "9999-10-01",
          "9999-11-01",
          "9999-12-01"
         ],
         "xaxis": "x",
         "y": [
          39.6,
          115.5,
          71.3,
          55.1,
          37,
          73.6,
          38.5,
          18.9,
          18.1,
          206.8,
          60.1,
          28.3
         ],
         "yaxis": "y"
        },
        {
         "hovertemplate": "variable=2010<br>index=%{x}<br>value=%{y}<extra></extra>",
         "legendgroup": "2010",
         "line": {
          "color": "#19d3f3",
          "dash": "solid"
         },
         "marker": {
          "symbol": "circle"
         },
         "mode": "lines",
         "name": "2010",
         "orientation": "v",
         "showlegend": true,
         "type": "scatter",
         "x": [
          "9999-01-01",
          "9999-02-01",
          "9999-03-01",
          "9999-04-01",
          "9999-05-01",
          "9999-06-01",
          "9999-07-01",
          "9999-08-01",
          "9999-09-01",
          "9999-10-01",
          "9999-11-01",
          "9999-12-01"
         ],
         "xaxis": "x",
         "y": [
          1.2,
          30.6,
          26.6,
          234.9,
          210.2,
          125.1,
          161.6,
          66.2,
          124.9,
          168.4,
          192.4,
          96.7
         ],
         "yaxis": "y"
        },
        {
         "hovertemplate": "variable=2011<br>index=%{x}<br>value=%{y}<extra></extra>",
         "legendgroup": "2011",
         "line": {
          "color": "#FF6692",
          "dash": "solid"
         },
         "marker": {
          "symbol": "circle"
         },
         "mode": "lines",
         "name": "2011",
         "orientation": "v",
         "showlegend": true,
         "type": "scatter",
         "x": [
          "9999-01-01",
          "9999-02-01",
          "9999-03-01",
          "9999-04-01",
          "9999-05-01",
          "9999-06-01",
          "9999-07-01",
          "9999-08-01",
          "9999-09-01",
          "9999-10-01",
          "9999-11-01",
          "9999-12-01"
         ],
         "xaxis": "x",
         "y": [
          118.5,
          161.5,
          185.4,
          184,
          175,
          59.8,
          33.9,
          40.8,
          134.3,
          193.9,
          473.5,
          143.5
         ],
         "yaxis": "y"
        },
        {
         "hovertemplate": "variable=2012<br>index=%{x}<br>value=%{y}<extra></extra>",
         "legendgroup": "2012",
         "line": {
          "color": "#B6E880",
          "dash": "solid"
         },
         "marker": {
          "symbol": "circle"
         },
         "mode": "lines",
         "name": "2012",
         "orientation": "v",
         "showlegend": true,
         "type": "scatter",
         "x": [
          "9999-01-01",
          "9999-02-01",
          "9999-03-01",
          "9999-04-01",
          "9999-05-01",
          "9999-06-01",
          "9999-07-01",
          "9999-08-01",
          "9999-09-01",
          "9999-10-01",
          "9999-11-01",
          "9999-12-01"
         ],
         "xaxis": "x",
         "y": [
          89,
          66,
          79.6,
          189.1,
          34.5,
          38.8,
          75.8,
          43.2,
          24.1,
          116.7,
          59.6,
          69.4
         ],
         "yaxis": "y"
        },
        {
         "hovertemplate": "variable=2013<br>index=%{x}<br>value=%{y}<extra></extra>",
         "legendgroup": "2013",
         "line": {
          "color": "#FF97FF",
          "dash": "solid"
         },
         "marker": {
          "symbol": "circle"
         },
         "mode": "lines",
         "name": "2013",
         "orientation": "v",
         "showlegend": true,
         "type": "scatter",
         "x": [
          "9999-01-01",
          "9999-02-01",
          "9999-03-01",
          "9999-04-01",
          "9999-05-01",
          "9999-06-01",
          "9999-07-01",
          "9999-08-01",
          "9999-09-01",
          "9999-10-01",
          "9999-11-01",
          "9999-12-01"
         ],
         "xaxis": "x",
         "y": [
          13.2,
          165,
          78.2,
          147.7,
          133.8,
          20.3,
          46.4,
          53.2,
          20.2,
          107.8,
          205.9,
          75.5
         ],
         "yaxis": "y"
        },
        {
         "hovertemplate": "variable=2014<br>index=%{x}<br>value=%{y}<extra></extra>",
         "legendgroup": "2014",
         "line": {
          "color": "#FECB52",
          "dash": "solid"
         },
         "marker": {
          "symbol": "circle"
         },
         "mode": "lines",
         "name": "2014",
         "orientation": "v",
         "showlegend": true,
         "type": "scatter",
         "x": [
          "9999-01-01",
          "9999-02-01",
          "9999-03-01",
          "9999-04-01",
          "9999-05-01",
          "9999-06-01",
          "9999-07-01",
          "9999-08-01",
          "9999-09-01",
          "9999-10-01",
          "9999-11-01",
          "9999-12-01"
         ],
         "xaxis": "x",
         "y": [
          74.9,
          89.2,
          74.8,
          29.6,
          49.3,
          44.6,
          39.5,
          24.5,
          44.9,
          103.2,
          104.8,
          99.1
         ],
         "yaxis": "y"
        },
        {
         "hovertemplate": "variable=2015<br>index=%{x}<br>value=%{y}<extra></extra>",
         "legendgroup": "2015",
         "line": {
          "color": "#636efa",
          "dash": "solid"
         },
         "marker": {
          "symbol": "circle"
         },
         "mode": "lines",
         "name": "2015",
         "orientation": "v",
         "showlegend": true,
         "type": "scatter",
         "x": [
          "9999-01-01",
          "9999-02-01",
          "9999-03-01",
          "9999-04-01",
          "9999-05-01",
          "9999-06-01",
          "9999-07-01",
          "9999-08-01",
          "9999-09-01",
          "9999-10-01",
          "9999-11-01",
          "9999-12-01"
         ],
         "xaxis": "x",
         "y": [
          66.3,
          76.5,
          50.7,
          37.7,
          61,
          97.4,
          68.3,
          52,
          32.9,
          21.3,
          31.8,
          4.9
         ],
         "yaxis": "y"
        },
        {
         "hovertemplate": "variable=2016<br>index=%{x}<br>value=%{y}<extra></extra>",
         "legendgroup": "2016",
         "line": {
          "color": "#EF553B",
          "dash": "solid"
         },
         "marker": {
          "symbol": "circle"
         },
         "mode": "lines",
         "name": "2016",
         "orientation": "v",
         "showlegend": true,
         "type": "scatter",
         "x": [
          "9999-01-01",
          "9999-02-01",
          "9999-03-01",
          "9999-04-01",
          "9999-05-01",
          "9999-06-01",
          "9999-07-01",
          "9999-08-01",
          "9999-09-01",
          "9999-10-01",
          "9999-11-01",
          "9999-12-01"
         ],
         "xaxis": "x",
         "y": [
          21.8,
          19.1,
          117.3,
          100.6,
          144.6,
          45.5,
          38.2,
          68,
          70.5,
          79.5,
          134.7,
          30.9
         ],
         "yaxis": "y"
        },
        {
         "hovertemplate": "variable=2017<br>index=%{x}<br>value=%{y}<extra></extra>",
         "legendgroup": "2017",
         "line": {
          "color": "#00cc96",
          "dash": "solid"
         },
         "marker": {
          "symbol": "circle"
         },
         "mode": "lines",
         "name": "2017",
         "orientation": "v",
         "showlegend": true,
         "type": "scatter",
         "x": [
          "9999-01-01",
          "9999-02-01",
          "9999-03-01",
          "9999-04-01",
          "9999-05-01",
          "9999-06-01",
          "9999-07-01",
          "9999-08-01",
          "9999-09-01",
          "9999-10-01",
          "9999-11-01",
          "9999-12-01"
         ],
         "xaxis": "x",
         "y": [
          47.2,
          33.4,
          205,
          75.6,
          58.6,
          38.7,
          12.1,
          61.8,
          30.7,
          56.9,
          187,
          51.6
         ],
         "yaxis": "y"
        },
        {
         "hovertemplate": "variable=2018<br>index=%{x}<br>value=%{y}<extra></extra>",
         "legendgroup": "2018",
         "line": {
          "color": "#ab63fa",
          "dash": "solid"
         },
         "marker": {
          "symbol": "circle"
         },
         "mode": "lines",
         "name": "2018",
         "orientation": "v",
         "showlegend": true,
         "type": "scatter",
         "x": [
          "9999-01-01",
          "9999-02-01",
          "9999-03-01",
          "9999-04-01",
          "9999-05-01",
          "9999-06-01",
          "9999-07-01",
          "9999-08-01",
          "9999-09-01",
          "9999-10-01",
          "9999-11-01",
          "9999-12-01"
         ],
         "xaxis": "x",
         "y": [
          88.2,
          83,
          137.4,
          87.8,
          144,
          88.6,
          93.9,
          74,
          43,
          35.4,
          139,
          5.7
         ],
         "yaxis": "y"
        },
        {
         "hovertemplate": "variable=2019<br>index=%{x}<br>value=%{y}<extra></extra>",
         "legendgroup": "2019",
         "line": {
          "color": "#FFA15A",
          "dash": "solid"
         },
         "marker": {
          "symbol": "circle"
         },
         "mode": "lines",
         "name": "2019",
         "orientation": "v",
         "showlegend": true,
         "type": "scatter",
         "x": [
          "9999-01-01",
          "9999-02-01",
          "9999-03-01",
          "9999-04-01",
          "9999-05-01",
          "9999-06-01",
          "9999-07-01",
          "9999-08-01",
          "9999-09-01",
          "9999-10-01",
          "9999-11-01",
          "9999-12-01"
         ],
         "xaxis": "x",
         "y": [
          9.6,
          102.8,
          102.8,
          244.6,
          0,
          0,
          0,
          0,
          0,
          0,
          0,
          0
         ],
         "yaxis": "y"
        }
       ],
       "layout": {
        "legend": {
         "title": {
          "text": "variable"
         },
         "tracegroupgap": 0
        },
        "margin": {
         "t": 60
        },
        "template": {
         "data": {
          "bar": [
           {
            "error_x": {
             "color": "#2a3f5f"
            },
            "error_y": {
             "color": "#2a3f5f"
            },
            "marker": {
             "line": {
              "color": "#E5ECF6",
              "width": 0.5
             },
             "pattern": {
              "fillmode": "overlay",
              "size": 10,
              "solidity": 0.2
             }
            },
            "type": "bar"
           }
          ],
          "barpolar": [
           {
            "marker": {
             "line": {
              "color": "#E5ECF6",
              "width": 0.5
             },
             "pattern": {
              "fillmode": "overlay",
              "size": 10,
              "solidity": 0.2
             }
            },
            "type": "barpolar"
           }
          ],
          "carpet": [
           {
            "aaxis": {
             "endlinecolor": "#2a3f5f",
             "gridcolor": "white",
             "linecolor": "white",
             "minorgridcolor": "white",
             "startlinecolor": "#2a3f5f"
            },
            "baxis": {
             "endlinecolor": "#2a3f5f",
             "gridcolor": "white",
             "linecolor": "white",
             "minorgridcolor": "white",
             "startlinecolor": "#2a3f5f"
            },
            "type": "carpet"
           }
          ],
          "choropleth": [
           {
            "colorbar": {
             "outlinewidth": 0,
             "ticks": ""
            },
            "type": "choropleth"
           }
          ],
          "contour": [
           {
            "colorbar": {
             "outlinewidth": 0,
             "ticks": ""
            },
            "colorscale": [
             [
              0,
              "#0d0887"
             ],
             [
              0.1111111111111111,
              "#46039f"
             ],
             [
              0.2222222222222222,
              "#7201a8"
             ],
             [
              0.3333333333333333,
              "#9c179e"
             ],
             [
              0.4444444444444444,
              "#bd3786"
             ],
             [
              0.5555555555555556,
              "#d8576b"
             ],
             [
              0.6666666666666666,
              "#ed7953"
             ],
             [
              0.7777777777777778,
              "#fb9f3a"
             ],
             [
              0.8888888888888888,
              "#fdca26"
             ],
             [
              1,
              "#f0f921"
             ]
            ],
            "type": "contour"
           }
          ],
          "contourcarpet": [
           {
            "colorbar": {
             "outlinewidth": 0,
             "ticks": ""
            },
            "type": "contourcarpet"
           }
          ],
          "heatmap": [
           {
            "colorbar": {
             "outlinewidth": 0,
             "ticks": ""
            },
            "colorscale": [
             [
              0,
              "#0d0887"
             ],
             [
              0.1111111111111111,
              "#46039f"
             ],
             [
              0.2222222222222222,
              "#7201a8"
             ],
             [
              0.3333333333333333,
              "#9c179e"
             ],
             [
              0.4444444444444444,
              "#bd3786"
             ],
             [
              0.5555555555555556,
              "#d8576b"
             ],
             [
              0.6666666666666666,
              "#ed7953"
             ],
             [
              0.7777777777777778,
              "#fb9f3a"
             ],
             [
              0.8888888888888888,
              "#fdca26"
             ],
             [
              1,
              "#f0f921"
             ]
            ],
            "type": "heatmap"
           }
          ],
          "heatmapgl": [
           {
            "colorbar": {
             "outlinewidth": 0,
             "ticks": ""
            },
            "colorscale": [
             [
              0,
              "#0d0887"
             ],
             [
              0.1111111111111111,
              "#46039f"
             ],
             [
              0.2222222222222222,
              "#7201a8"
             ],
             [
              0.3333333333333333,
              "#9c179e"
             ],
             [
              0.4444444444444444,
              "#bd3786"
             ],
             [
              0.5555555555555556,
              "#d8576b"
             ],
             [
              0.6666666666666666,
              "#ed7953"
             ],
             [
              0.7777777777777778,
              "#fb9f3a"
             ],
             [
              0.8888888888888888,
              "#fdca26"
             ],
             [
              1,
              "#f0f921"
             ]
            ],
            "type": "heatmapgl"
           }
          ],
          "histogram": [
           {
            "marker": {
             "pattern": {
              "fillmode": "overlay",
              "size": 10,
              "solidity": 0.2
             }
            },
            "type": "histogram"
           }
          ],
          "histogram2d": [
           {
            "colorbar": {
             "outlinewidth": 0,
             "ticks": ""
            },
            "colorscale": [
             [
              0,
              "#0d0887"
             ],
             [
              0.1111111111111111,
              "#46039f"
             ],
             [
              0.2222222222222222,
              "#7201a8"
             ],
             [
              0.3333333333333333,
              "#9c179e"
             ],
             [
              0.4444444444444444,
              "#bd3786"
             ],
             [
              0.5555555555555556,
              "#d8576b"
             ],
             [
              0.6666666666666666,
              "#ed7953"
             ],
             [
              0.7777777777777778,
              "#fb9f3a"
             ],
             [
              0.8888888888888888,
              "#fdca26"
             ],
             [
              1,
              "#f0f921"
             ]
            ],
            "type": "histogram2d"
           }
          ],
          "histogram2dcontour": [
           {
            "colorbar": {
             "outlinewidth": 0,
             "ticks": ""
            },
            "colorscale": [
             [
              0,
              "#0d0887"
             ],
             [
              0.1111111111111111,
              "#46039f"
             ],
             [
              0.2222222222222222,
              "#7201a8"
             ],
             [
              0.3333333333333333,
              "#9c179e"
             ],
             [
              0.4444444444444444,
              "#bd3786"
             ],
             [
              0.5555555555555556,
              "#d8576b"
             ],
             [
              0.6666666666666666,
              "#ed7953"
             ],
             [
              0.7777777777777778,
              "#fb9f3a"
             ],
             [
              0.8888888888888888,
              "#fdca26"
             ],
             [
              1,
              "#f0f921"
             ]
            ],
            "type": "histogram2dcontour"
           }
          ],
          "mesh3d": [
           {
            "colorbar": {
             "outlinewidth": 0,
             "ticks": ""
            },
            "type": "mesh3d"
           }
          ],
          "parcoords": [
           {
            "line": {
             "colorbar": {
              "outlinewidth": 0,
              "ticks": ""
             }
            },
            "type": "parcoords"
           }
          ],
          "pie": [
           {
            "automargin": true,
            "type": "pie"
           }
          ],
          "scatter": [
           {
            "fillpattern": {
             "fillmode": "overlay",
             "size": 10,
             "solidity": 0.2
            },
            "type": "scatter"
           }
          ],
          "scatter3d": [
           {
            "line": {
             "colorbar": {
              "outlinewidth": 0,
              "ticks": ""
             }
            },
            "marker": {
             "colorbar": {
              "outlinewidth": 0,
              "ticks": ""
             }
            },
            "type": "scatter3d"
           }
          ],
          "scattercarpet": [
           {
            "marker": {
             "colorbar": {
              "outlinewidth": 0,
              "ticks": ""
             }
            },
            "type": "scattercarpet"
           }
          ],
          "scattergeo": [
           {
            "marker": {
             "colorbar": {
              "outlinewidth": 0,
              "ticks": ""
             }
            },
            "type": "scattergeo"
           }
          ],
          "scattergl": [
           {
            "marker": {
             "colorbar": {
              "outlinewidth": 0,
              "ticks": ""
             }
            },
            "type": "scattergl"
           }
          ],
          "scattermapbox": [
           {
            "marker": {
             "colorbar": {
              "outlinewidth": 0,
              "ticks": ""
             }
            },
            "type": "scattermapbox"
           }
          ],
          "scatterpolar": [
           {
            "marker": {
             "colorbar": {
              "outlinewidth": 0,
              "ticks": ""
             }
            },
            "type": "scatterpolar"
           }
          ],
          "scatterpolargl": [
           {
            "marker": {
             "colorbar": {
              "outlinewidth": 0,
              "ticks": ""
             }
            },
            "type": "scatterpolargl"
           }
          ],
          "scatterternary": [
           {
            "marker": {
             "colorbar": {
              "outlinewidth": 0,
              "ticks": ""
             }
            },
            "type": "scatterternary"
           }
          ],
          "surface": [
           {
            "colorbar": {
             "outlinewidth": 0,
             "ticks": ""
            },
            "colorscale": [
             [
              0,
              "#0d0887"
             ],
             [
              0.1111111111111111,
              "#46039f"
             ],
             [
              0.2222222222222222,
              "#7201a8"
             ],
             [
              0.3333333333333333,
              "#9c179e"
             ],
             [
              0.4444444444444444,
              "#bd3786"
             ],
             [
              0.5555555555555556,
              "#d8576b"
             ],
             [
              0.6666666666666666,
              "#ed7953"
             ],
             [
              0.7777777777777778,
              "#fb9f3a"
             ],
             [
              0.8888888888888888,
              "#fdca26"
             ],
             [
              1,
              "#f0f921"
             ]
            ],
            "type": "surface"
           }
          ],
          "table": [
           {
            "cells": {
             "fill": {
              "color": "#EBF0F8"
             },
             "line": {
              "color": "white"
             }
            },
            "header": {
             "fill": {
              "color": "#C8D4E3"
             },
             "line": {
              "color": "white"
             }
            },
            "type": "table"
           }
          ]
         },
         "layout": {
          "annotationdefaults": {
           "arrowcolor": "#2a3f5f",
           "arrowhead": 0,
           "arrowwidth": 1
          },
          "autotypenumbers": "strict",
          "coloraxis": {
           "colorbar": {
            "outlinewidth": 0,
            "ticks": ""
           }
          },
          "colorscale": {
           "diverging": [
            [
             0,
             "#8e0152"
            ],
            [
             0.1,
             "#c51b7d"
            ],
            [
             0.2,
             "#de77ae"
            ],
            [
             0.3,
             "#f1b6da"
            ],
            [
             0.4,
             "#fde0ef"
            ],
            [
             0.5,
             "#f7f7f7"
            ],
            [
             0.6,
             "#e6f5d0"
            ],
            [
             0.7,
             "#b8e186"
            ],
            [
             0.8,
             "#7fbc41"
            ],
            [
             0.9,
             "#4d9221"
            ],
            [
             1,
             "#276419"
            ]
           ],
           "sequential": [
            [
             0,
             "#0d0887"
            ],
            [
             0.1111111111111111,
             "#46039f"
            ],
            [
             0.2222222222222222,
             "#7201a8"
            ],
            [
             0.3333333333333333,
             "#9c179e"
            ],
            [
             0.4444444444444444,
             "#bd3786"
            ],
            [
             0.5555555555555556,
             "#d8576b"
            ],
            [
             0.6666666666666666,
             "#ed7953"
            ],
            [
             0.7777777777777778,
             "#fb9f3a"
            ],
            [
             0.8888888888888888,
             "#fdca26"
            ],
            [
             1,
             "#f0f921"
            ]
           ],
           "sequentialminus": [
            [
             0,
             "#0d0887"
            ],
            [
             0.1111111111111111,
             "#46039f"
            ],
            [
             0.2222222222222222,
             "#7201a8"
            ],
            [
             0.3333333333333333,
             "#9c179e"
            ],
            [
             0.4444444444444444,
             "#bd3786"
            ],
            [
             0.5555555555555556,
             "#d8576b"
            ],
            [
             0.6666666666666666,
             "#ed7953"
            ],
            [
             0.7777777777777778,
             "#fb9f3a"
            ],
            [
             0.8888888888888888,
             "#fdca26"
            ],
            [
             1,
             "#f0f921"
            ]
           ]
          },
          "colorway": [
           "#636efa",
           "#EF553B",
           "#00cc96",
           "#ab63fa",
           "#FFA15A",
           "#19d3f3",
           "#FF6692",
           "#B6E880",
           "#FF97FF",
           "#FECB52"
          ],
          "font": {
           "color": "#2a3f5f"
          },
          "geo": {
           "bgcolor": "white",
           "lakecolor": "white",
           "landcolor": "#E5ECF6",
           "showlakes": true,
           "showland": true,
           "subunitcolor": "white"
          },
          "hoverlabel": {
           "align": "left"
          },
          "hovermode": "closest",
          "mapbox": {
           "style": "light"
          },
          "paper_bgcolor": "white",
          "plot_bgcolor": "#E5ECF6",
          "polar": {
           "angularaxis": {
            "gridcolor": "white",
            "linecolor": "white",
            "ticks": ""
           },
           "bgcolor": "#E5ECF6",
           "radialaxis": {
            "gridcolor": "white",
            "linecolor": "white",
            "ticks": ""
           }
          },
          "scene": {
           "xaxis": {
            "backgroundcolor": "#E5ECF6",
            "gridcolor": "white",
            "gridwidth": 2,
            "linecolor": "white",
            "showbackground": true,
            "ticks": "",
            "zerolinecolor": "white"
           },
           "yaxis": {
            "backgroundcolor": "#E5ECF6",
            "gridcolor": "white",
            "gridwidth": 2,
            "linecolor": "white",
            "showbackground": true,
            "ticks": "",
            "zerolinecolor": "white"
           },
           "zaxis": {
            "backgroundcolor": "#E5ECF6",
            "gridcolor": "white",
            "gridwidth": 2,
            "linecolor": "white",
            "showbackground": true,
            "ticks": "",
            "zerolinecolor": "white"
           }
          },
          "shapedefaults": {
           "line": {
            "color": "#2a3f5f"
           }
          },
          "ternary": {
           "aaxis": {
            "gridcolor": "white",
            "linecolor": "white",
            "ticks": ""
           },
           "baxis": {
            "gridcolor": "white",
            "linecolor": "white",
            "ticks": ""
           },
           "bgcolor": "#E5ECF6",
           "caxis": {
            "gridcolor": "white",
            "linecolor": "white",
            "ticks": ""
           }
          },
          "title": {
           "x": 0.05
          },
          "xaxis": {
           "automargin": true,
           "gridcolor": "white",
           "linecolor": "white",
           "ticks": "",
           "title": {
            "standoff": 15
           },
           "zerolinecolor": "white",
           "zerolinewidth": 2
          },
          "yaxis": {
           "automargin": true,
           "gridcolor": "white",
           "linecolor": "white",
           "ticks": "",
           "title": {
            "standoff": 15
           },
           "zerolinecolor": "white",
           "zerolinewidth": 2
          }
         }
        },
        "updatemenus": [
         {
          "buttons": [
           {
            "args": [
             "visible",
             "legendonly"
            ],
            "label": "Deselect All",
            "method": "restyle"
           },
           {
            "args": [
             "visible",
             true
            ],
            "label": "Select All",
            "method": "restyle"
           }
          ],
          "direction": "left",
          "pad": {
           "r": 10,
           "t": 10
          },
          "showactive": true,
          "type": "buttons",
          "x": 0,
          "xanchor": "left",
          "y": 1.1,
          "yanchor": "top"
         }
        ],
        "xaxis": {
         "anchor": "y",
         "domain": [
          0,
          1
         ],
         "title": {
          "text": "index"
         }
        },
        "yaxis": {
         "anchor": "x",
         "domain": [
          0,
          1
         ],
         "title": {
          "text": "value"
         }
        }
       }
      }
     },
     "metadata": {},
     "output_type": "display_data"
    },
    {
     "data": {
      "image/png": "[encoded data removed]",
      "text/plain": [
       "<Figure size 640x480 with 1 Axes>"
      ]
     },
     "metadata": {},
     "output_type": "display_data"
    }
   ],
   "source": [
    "estacion=df_group_by_estation_mean.T.columns[0]\n",
    "\n",
    "# grafica\n",
    "plt.plot(df_group_by_estation_mean.T[estacion])\n",
    "plt.xticks(rotation=45)\n",
    "plt.title(\"Time serie mean values precipitation\")\n",
    "\n",
    "# trasponiendo para graficar\n",
    "df_group_by_estation_aux=df_group_by_estation[['AÑO','ENERO', 'FEBRERO', 'MARZO', 'ABRIL', 'MAYO', 'JUNIO', 'JULIO', 'AGOSTO', 'SEPTIEMBRE', 'OCTUBRE', 'NOVIEMBRE', 'DICIEMBRE']]\n",
    "df_group_by_estation_aux.index=df_group_by_estation_aux['AÑO']\n",
    "df_group_by_estation_aux=df_group_by_estation_aux.drop('AÑO', axis=1)\n",
    "df_group_by_estation_auxt=df_group_by_estation_aux.T\n",
    "\n",
    "index=['9999-01-01', '9999-02-01', '9999-03-01','9999-04-01', '9999-05-01', '9999-06-01','9999-07-01', '9999-08-01', '9999-09-01','9999-10-01', '9999-11-01', '9999-12-01']\n",
    "df_group_by_estation_auxt.index=index\n",
    "\n",
    "#quitar columnas duplicadas\n",
    "df_group_by_estation_auxt = df_group_by_estation_auxt.loc[:, ~df_group_by_estation_auxt.columns.duplicated()]\n",
    "df_group_by_estation_auxt.columns\n",
    "\n",
    "# orgaminzando anios en leyenda\n",
    "anios=[int(i) for i in df_group_by_estation_auxt.columns]\n",
    "anios.sort()\n",
    "legend_order = [str(i) for i in anios]\n",
    "\n",
    "df_group_by_estation_auxt.columns=[str(i) for i in df_group_by_estation_auxt.columns]\n",
    "df_group_by_estation_auxt=df_group_by_estation_auxt[legend_order]\n",
    "\n",
    "fig = px.line(df_group_by_estation_auxt, x=df_group_by_estation_auxt.index, y=df_group_by_estation_auxt.columns,\n",
    "              category_orders={'variable': legend_order})\n",
    "\n",
    "# creando botones para seleccionar y deseleccionar todo\n",
    "# Convertir fig a una figura de go.Figure para personalización avanzada\n",
    "fig = go.Figure(fig)\n",
    "\n",
    "\n",
    "\n",
    "# Añadir botones para seleccionar y deseleccionar todo\n",
    "fig.update_layout(\n",
    "    updatemenus=[\n",
    "        dict(type=\"buttons\", direction=\"left\",\n",
    "            buttons=list([\n",
    "                dict(\n",
    "                    args=[\"visible\", \"legendonly\"],  label=\"Deselect All\", method=\"restyle\"\n",
    "                ),\n",
    "                dict(\n",
    "                    args=[\"visible\", True], label=\"Select All\", method=\"restyle\"\n",
    "                ),\n",
    "            ]),\n",
    "            pad={\"r\": 10, \"t\": 10},\n",
    "            showactive=True,  x=0.0, xanchor=\"left\",  y=1.1, yanchor=\"top\"\n",
    "        ),\n",
    "    ]\n",
    ")\n",
    "fig.show()"
   ]
  },
  {
   "cell_type": "code",
   "execution_count": 26,
   "metadata": {},
   "outputs": [],
   "source": [
    "#!pip install --upgrade nbformat"
   ]
  },
  {
   "cell_type": "code",
   "execution_count": 27,
   "metadata": {},
   "outputs": [
    {
     "data": {
      "text/html": [
       "<div>\n",
       "<style scoped>\n",
       "    .dataframe tbody tr th:only-of-type {\n",
       "        vertical-align: middle;\n",
       "    }\n",
       "\n",
       "    .dataframe tbody tr th {\n",
       "        vertical-align: top;\n",
       "    }\n",
       "\n",
       "    .dataframe thead th {\n",
       "        text-align: right;\n",
       "    }\n",
       "</style>\n",
       "<table border=\"1\" class=\"dataframe\">\n",
       "  <thead>\n",
       "    <tr style=\"text-align: right;\">\n",
       "      <th></th>\n",
       "      <th>Month</th>\n",
       "      <th>Year</th>\n",
       "      <th>Precipitation</th>\n",
       "    </tr>\n",
       "  </thead>\n",
       "  <tbody>\n",
       "    <tr>\n",
       "      <th>0</th>\n",
       "      <td>1955-01-01</td>\n",
       "      <td>1955</td>\n",
       "      <td>0.0</td>\n",
       "    </tr>\n",
       "    <tr>\n",
       "      <th>1</th>\n",
       "      <td>1955-02-01</td>\n",
       "      <td>1955</td>\n",
       "      <td>18.0</td>\n",
       "    </tr>\n",
       "    <tr>\n",
       "      <th>2</th>\n",
       "      <td>1955-03-01</td>\n",
       "      <td>1955</td>\n",
       "      <td>94.0</td>\n",
       "    </tr>\n",
       "    <tr>\n",
       "      <th>3</th>\n",
       "      <td>1955-04-01</td>\n",
       "      <td>1955</td>\n",
       "      <td>75.0</td>\n",
       "    </tr>\n",
       "    <tr>\n",
       "      <th>4</th>\n",
       "      <td>1955-05-01</td>\n",
       "      <td>1955</td>\n",
       "      <td>43.6</td>\n",
       "    </tr>\n",
       "    <tr>\n",
       "      <th>...</th>\n",
       "      <td>...</td>\n",
       "      <td>...</td>\n",
       "      <td>...</td>\n",
       "    </tr>\n",
       "    <tr>\n",
       "      <th>775</th>\n",
       "      <td>2019-08-01</td>\n",
       "      <td>2019</td>\n",
       "      <td>0.0</td>\n",
       "    </tr>\n",
       "    <tr>\n",
       "      <th>776</th>\n",
       "      <td>2019-09-01</td>\n",
       "      <td>2019</td>\n",
       "      <td>0.0</td>\n",
       "    </tr>\n",
       "    <tr>\n",
       "      <th>777</th>\n",
       "      <td>2019-10-01</td>\n",
       "      <td>2019</td>\n",
       "      <td>0.0</td>\n",
       "    </tr>\n",
       "    <tr>\n",
       "      <th>778</th>\n",
       "      <td>2019-11-01</td>\n",
       "      <td>2019</td>\n",
       "      <td>0.0</td>\n",
       "    </tr>\n",
       "    <tr>\n",
       "      <th>779</th>\n",
       "      <td>2019-12-01</td>\n",
       "      <td>2019</td>\n",
       "      <td>0.0</td>\n",
       "    </tr>\n",
       "  </tbody>\n",
       "</table>\n",
       "<p>780 rows × 3 columns</p>\n",
       "</div>"
      ],
      "text/plain": [
       "          Month  Year  Precipitation\n",
       "0    1955-01-01  1955            0.0\n",
       "1    1955-02-01  1955           18.0\n",
       "2    1955-03-01  1955           94.0\n",
       "3    1955-04-01  1955           75.0\n",
       "4    1955-05-01  1955           43.6\n",
       "..          ...   ...            ...\n",
       "775  2019-08-01  2019            0.0\n",
       "776  2019-09-01  2019            0.0\n",
       "777  2019-10-01  2019            0.0\n",
       "778  2019-11-01  2019            0.0\n",
       "779  2019-12-01  2019            0.0\n",
       "\n",
       "[780 rows x 3 columns]"
      ]
     },
     "execution_count": 27,
     "metadata": {},
     "output_type": "execute_result"
    }
   ],
   "source": [
    "df_group_by_estation_auxt.index=['-01-01', '-02-01', '-03-01','-04-01', '-05-01', '-06-01','-07-01', '-08-01', '-09-01','-10-01', '-11-01', '-12-01']\n",
    "\n",
    "# Convertir el DataFrame a formato largo\n",
    "df_long = df_group_by_estation_auxt.reset_index().melt(id_vars='index', var_name='Year', value_name='Precipitation')\n",
    "df_long.rename(columns={'index': 'Month'}, inplace=True)\n",
    "\n",
    "df_long['Month']=[str(df_long['Year'][i])+str(df_long['Month'][i]) for i in range(len(df_long['Month']))]\n",
    "df_long"
   ]
  },
  {
   "cell_type": "code",
   "execution_count": 28,
   "metadata": {},
   "outputs": [],
   "source": [
    "# Crear una columna de fecha completa (año-mes)\n",
    "df_long['Date'] = pd.to_datetime(df_long['Month'], format='%Y-%m-%d')"
   ]
  },
  {
   "cell_type": "code",
   "execution_count": 29,
   "metadata": {},
   "outputs": [],
   "source": [
    "# Establecer la columna de fecha como índice\n",
    "df_long.set_index('Date', inplace=True)"
   ]
  },
  {
   "cell_type": "code",
   "execution_count": 30,
   "metadata": {},
   "outputs": [],
   "source": [
    "# Ordenar el DataFrame por la fecha\n",
    "df_long.sort_index(inplace=True)"
   ]
  },
  {
   "cell_type": "code",
   "execution_count": 31,
   "metadata": {},
   "outputs": [
    {
     "data": {
      "text/plain": [
       "<Axes: xlabel='Date'>"
      ]
     },
     "execution_count": 31,
     "metadata": {},
     "output_type": "execute_result"
    },
    {
     "data": {
      "image/png": "[encoded data removed]",
      "text/plain": [
       "<Figure size 640x480 with 1 Axes>"
      ]
     },
     "metadata": {},
     "output_type": "display_data"
    }
   ],
   "source": [
    "df_long.plot()"
   ]
  },
  {
   "cell_type": "code",
   "execution_count": 32,
   "metadata": {},
   "outputs": [],
   "source": [
    "df_long=df_long[['Precipitation']]"
   ]
  },
  {
   "cell_type": "code",
   "execution_count": 33,
   "metadata": {},
   "outputs": [
    {
     "data": {
      "text/html": [
       "<div>\n",
       "<style scoped>\n",
       "    .dataframe tbody tr th:only-of-type {\n",
       "        vertical-align: middle;\n",
       "    }\n",
       "\n",
       "    .dataframe tbody tr th {\n",
       "        vertical-align: top;\n",
       "    }\n",
       "\n",
       "    .dataframe thead th {\n",
       "        text-align: right;\n",
       "    }\n",
       "</style>\n",
       "<table border=\"1\" class=\"dataframe\">\n",
       "  <thead>\n",
       "    <tr style=\"text-align: right;\">\n",
       "      <th></th>\n",
       "      <th>Precipitation</th>\n",
       "    </tr>\n",
       "    <tr>\n",
       "      <th>Date</th>\n",
       "      <th></th>\n",
       "    </tr>\n",
       "  </thead>\n",
       "  <tbody>\n",
       "    <tr>\n",
       "      <th>1955-01-01</th>\n",
       "      <td>0.0</td>\n",
       "    </tr>\n",
       "    <tr>\n",
       "      <th>1955-02-01</th>\n",
       "      <td>18.0</td>\n",
       "    </tr>\n",
       "    <tr>\n",
       "      <th>1955-03-01</th>\n",
       "      <td>94.0</td>\n",
       "    </tr>\n",
       "    <tr>\n",
       "      <th>1955-04-01</th>\n",
       "      <td>75.0</td>\n",
       "    </tr>\n",
       "    <tr>\n",
       "      <th>1955-05-01</th>\n",
       "      <td>43.6</td>\n",
       "    </tr>\n",
       "    <tr>\n",
       "      <th>...</th>\n",
       "      <td>...</td>\n",
       "    </tr>\n",
       "    <tr>\n",
       "      <th>2019-08-01</th>\n",
       "      <td>0.0</td>\n",
       "    </tr>\n",
       "    <tr>\n",
       "      <th>2019-09-01</th>\n",
       "      <td>0.0</td>\n",
       "    </tr>\n",
       "    <tr>\n",
       "      <th>2019-10-01</th>\n",
       "      <td>0.0</td>\n",
       "    </tr>\n",
       "    <tr>\n",
       "      <th>2019-11-01</th>\n",
       "      <td>0.0</td>\n",
       "    </tr>\n",
       "    <tr>\n",
       "      <th>2019-12-01</th>\n",
       "      <td>0.0</td>\n",
       "    </tr>\n",
       "  </tbody>\n",
       "</table>\n",
       "<p>780 rows × 1 columns</p>\n",
       "</div>"
      ],
      "text/plain": [
       "            Precipitation\n",
       "Date                     \n",
       "1955-01-01            0.0\n",
       "1955-02-01           18.0\n",
       "1955-03-01           94.0\n",
       "1955-04-01           75.0\n",
       "1955-05-01           43.6\n",
       "...                   ...\n",
       "2019-08-01            0.0\n",
       "2019-09-01            0.0\n",
       "2019-10-01            0.0\n",
       "2019-11-01            0.0\n",
       "2019-12-01            0.0\n",
       "\n",
       "[780 rows x 1 columns]"
      ]
     },
     "execution_count": 33,
     "metadata": {},
     "output_type": "execute_result"
    }
   ],
   "source": [
    "df_long"
   ]
  },
  {
   "cell_type": "code",
   "execution_count": 34,
   "metadata": {},
   "outputs": [
    {
     "data": {
      "text/plain": [
       "<Axes: xlabel='Date'>"
      ]
     },
     "execution_count": 34,
     "metadata": {},
     "output_type": "execute_result"
    },
    {
     "data": {
      "image/png": "[encoded data removed]",
      "text/plain": [
       "<Figure size 640x480 with 1 Axes>"
      ]
     },
     "metadata": {},
     "output_type": "display_data"
    }
   ],
   "source": [
    "df_long.plot()"
   ]
  },
  {
   "cell_type": "code",
   "execution_count": 35,
   "metadata": {},
   "outputs": [
    {
     "data": {
      "text/plain": [
       "<Axes: xlabel='Date'>"
      ]
     },
     "execution_count": 35,
     "metadata": {},
     "output_type": "execute_result"
    },
    {
     "data": {
      "image/png": "[encoded data removed]",
      "text/plain": [
       "<Figure size 640x480 with 1 Axes>"
      ]
     },
     "metadata": {},
     "output_type": "display_data"
    }
   ],
   "source": [
    "df_long=df_long[(df_long.index>'1980-01-01')]\n",
    "df_long=df_long[(df_long.index<'2019-01-01')]\n",
    "df_long.plot()"
   ]
  },
  {
   "cell_type": "code",
   "execution_count": 36,
   "metadata": {},
   "outputs": [
    {
     "name": "stderr",
     "output_type": "stream",
     "text": [
      "/home/stevens/.local/lib/python3.10/site-packages/gluonts/json.py:102: UserWarning:\n",
      "\n",
      "Using `json`-module for json-handling. Consider installing one of `orjson`, `ujson` to speed up serialization and deserialization.\n",
      "\n"
     ]
    },
    {
     "name": "stdout",
     "output_type": "stream",
     "text": [
      "CPU times: user 1.41 s, sys: 499 ms, total: 1.91 s\n",
      "Wall time: 1.42 s\n"
     ]
    }
   ],
   "source": [
    "%%time\n",
    "import pandas as pd\n",
    "import matplotlib.pyplot as plt\n",
    "\n",
    "from gluonts.dataset.pandas import PandasDataset\n",
    "from gluonts.dataset.split import split\n",
    "from gluonts.torch import DeepAREstimator\n"
   ]
  },
  {
   "cell_type": "code",
   "execution_count": 37,
   "metadata": {},
   "outputs": [
    {
     "name": "stdout",
     "output_type": "stream",
     "text": [
      "/bin/bash: line 1: python3.6: command not found\n"
     ]
    }
   ],
   "source": [
    "!python3.6 -m pip install \"gluonts[torch]\""
   ]
  },
  {
   "cell_type": "code",
   "execution_count": 38,
   "metadata": {},
   "outputs": [
    {
     "data": {
      "text/html": [
       "<div>\n",
       "<style scoped>\n",
       "    .dataframe tbody tr th:only-of-type {\n",
       "        vertical-align: middle;\n",
       "    }\n",
       "\n",
       "    .dataframe tbody tr th {\n",
       "        vertical-align: top;\n",
       "    }\n",
       "\n",
       "    .dataframe thead th {\n",
       "        text-align: right;\n",
       "    }\n",
       "</style>\n",
       "<table border=\"1\" class=\"dataframe\">\n",
       "  <thead>\n",
       "    <tr style=\"text-align: right;\">\n",
       "      <th></th>\n",
       "      <th>Precipitation</th>\n",
       "    </tr>\n",
       "    <tr>\n",
       "      <th>Date</th>\n",
       "      <th></th>\n",
       "    </tr>\n",
       "  </thead>\n",
       "  <tbody>\n",
       "    <tr>\n",
       "      <th>1980-02-01</th>\n",
       "      <td>256.0</td>\n",
       "    </tr>\n",
       "    <tr>\n",
       "      <th>1980-03-01</th>\n",
       "      <td>69.0</td>\n",
       "    </tr>\n",
       "    <tr>\n",
       "      <th>1980-04-01</th>\n",
       "      <td>157.5</td>\n",
       "    </tr>\n",
       "    <tr>\n",
       "      <th>1980-05-01</th>\n",
       "      <td>82.0</td>\n",
       "    </tr>\n",
       "    <tr>\n",
       "      <th>1980-06-01</th>\n",
       "      <td>223.0</td>\n",
       "    </tr>\n",
       "    <tr>\n",
       "      <th>...</th>\n",
       "      <td>...</td>\n",
       "    </tr>\n",
       "    <tr>\n",
       "      <th>2018-08-01</th>\n",
       "      <td>74.0</td>\n",
       "    </tr>\n",
       "    <tr>\n",
       "      <th>2018-09-01</th>\n",
       "      <td>43.0</td>\n",
       "    </tr>\n",
       "    <tr>\n",
       "      <th>2018-10-01</th>\n",
       "      <td>35.4</td>\n",
       "    </tr>\n",
       "    <tr>\n",
       "      <th>2018-11-01</th>\n",
       "      <td>139.0</td>\n",
       "    </tr>\n",
       "    <tr>\n",
       "      <th>2018-12-01</th>\n",
       "      <td>5.7</td>\n",
       "    </tr>\n",
       "  </tbody>\n",
       "</table>\n",
       "<p>467 rows × 1 columns</p>\n",
       "</div>"
      ],
      "text/plain": [
       "            Precipitation\n",
       "Date                     \n",
       "1980-02-01          256.0\n",
       "1980-03-01           69.0\n",
       "1980-04-01          157.5\n",
       "1980-05-01           82.0\n",
       "1980-06-01          223.0\n",
       "...                   ...\n",
       "2018-08-01           74.0\n",
       "2018-09-01           43.0\n",
       "2018-10-01           35.4\n",
       "2018-11-01          139.0\n",
       "2018-12-01            5.7\n",
       "\n",
       "[467 rows x 1 columns]"
      ]
     },
     "execution_count": 38,
     "metadata": {},
     "output_type": "execute_result"
    }
   ],
   "source": [
    "df_long"
   ]
  },
  {
   "cell_type": "code",
   "execution_count": 39,
   "metadata": {},
   "outputs": [],
   "source": [
    "#!pip install pymannkendall"
   ]
  },
  {
   "cell_type": "code",
   "execution_count": 42,
   "metadata": {},
   "outputs": [
    {
     "name": "stdout",
     "output_type": "stream",
     "text": [
      "\n",
      "Test de tendencia Mann-Kendall:\n",
      "Estadístico Z: 0.37492493498770424\n",
      "p-value: 0.7077162940546367\n",
      "Tendencia: No hay tendencia\n",
      "Nivel de significancia: False\n",
      "No hay una tendencia significativa.\n",
      "\n",
      "\n",
      "\n",
      "Análisis estadístico básico:\n",
      "count    467.000000\n",
      "mean      70.377944\n",
      "std       57.229409\n",
      "min        0.000000\n",
      "25%       31.000000\n",
      "50%       55.500000\n",
      "75%       92.950000\n",
      "max      473.500000\n",
      "Name: Precipitation, dtype: float64\n",
      "\n",
      "Valores nulos:\n",
      "0\n",
      "\n",
      "Test de normalidad (Shapiro-Wilk):\n",
      "Estadístico: 0.870463965039677, p-value: 2.8429683296742867e-19\n",
      "Se rechaza la hipótesis nula: la distribución no es normal.\n",
      "\n",
      "Test de normalidad (Kolmogorov-Smirnov):\n",
      "Estadístico: 0.923703635158948, p-value: 0.0\n",
      "Se rechaza la hipótesis nula: la distribución no es normal.\n",
      "\n",
      "Test de Dickey-Fuller aumentado (ADF) para estacionariedad:\n",
      "Estadístico: -4.666211471707549, p-value: 9.73511579805735e-05\n",
      "Valor crítico (1%): -3.444868194858831\n",
      "Valor crítico (5%): -2.867941416548597\n",
      "Valor crítico (10%): -2.5701797149735146\n",
      "La serie es estacionaria (se rechaza la hipótesis nula).\n",
      "\n",
      "Autocorrelación:\n"
     ]
    },
    {
     "data": {
      "image/png": "[encoded data removed]",
      "text/plain": [
       "<Figure size 640x480 with 1 Axes>"
      ]
     },
     "metadata": {},
     "output_type": "display_data"
    },
    {
     "name": "stdout",
     "output_type": "stream",
     "text": [
      "\n",
      "Autocorrelación parcial:\n"
     ]
    },
    {
     "data": {
      "image/png": "[encoded data removed]",
      "text/plain": [
       "<Figure size 640x480 with 1 Axes>"
      ]
     },
     "metadata": {},
     "output_type": "display_data"
    },
    {
     "data": {
      "image/png": "[encoded data removed]",
      "text/plain": [
       "<Figure size 1000x600 with 1 Axes>"
      ]
     },
     "metadata": {},
     "output_type": "display_data"
    },
    {
     "data": {
      "image/png": "[encoded data removed]",
      "text/plain": [
       "<Figure size 1000x600 with 1 Axes>"
      ]
     },
     "metadata": {},
     "output_type": "display_data"
    },
    {
     "data": {
      "image/png": "[encoded data removed]",
      "text/plain": [
       "<Figure size 1000x600 with 1 Axes>"
      ]
     },
     "metadata": {},
     "output_type": "display_data"
    },
    {
     "name": "stderr",
     "output_type": "stream",
     "text": [
      "/tmp/ipykernel_9967/1331345786.py:85: FutureWarning:\n",
      "\n",
      "'M' is deprecated and will be removed in a future version, please use 'ME' instead.\n",
      "\n"
     ]
    },
    {
     "data": {
      "image/png": "[encoded data removed]",
      "text/plain": [
       "<Figure size 1000x600 with 1 Axes>"
      ]
     },
     "metadata": {},
     "output_type": "display_data"
    }
   ],
   "source": [
    "# Importar bibliotecas necesarias\n",
    "from scipy.stats import shapiro, kstest\n",
    "from statsmodels.graphics.tsaplots import plot_acf, plot_pacf\n",
    "from statsmodels.tsa.stattools import adfuller\n",
    "\n",
    "# Función para análisis descriptivo con tests\n",
    "def analisis_descriptivo_con_tests(df):\n",
    "    # Asegurarse de que el índice sea de tipo fecha\n",
    "    df.index = pd.to_datetime(df.index)\n",
    "\n",
    "    # Análisis básico\n",
    "    print(\"Análisis estadístico básico:\")\n",
    "    print(df['Precipitation'].describe())\n",
    "\n",
    "    # Calcular la cantidad de valores nulos\n",
    "    print(\"\\nValores nulos:\")\n",
    "    print(df['Precipitation'].isnull().sum())\n",
    "\n",
    "    # Test de normalidad (Shapiro-Wilk)\n",
    "    print(\"\\nTest de normalidad (Shapiro-Wilk):\")\n",
    "    stat, p_value = shapiro(df['Precipitation'].dropna())\n",
    "    print(f'Estadístico: {stat}, p-value: {p_value}')\n",
    "    if p_value > 0.05:\n",
    "        print(\"No se rechaza la hipótesis nula: la distribución es aproximadamente normal.\")\n",
    "    else:\n",
    "        print(\"Se rechaza la hipótesis nula: la distribución no es normal.\")\n",
    "\n",
    "    # Alternativamente, el test de Kolmogorov-Smirnov\n",
    "    print(\"\\nTest de normalidad (Kolmogorov-Smirnov):\")\n",
    "    stat, p_value = kstest(df['Precipitation'].dropna(), 'norm')\n",
    "    print(f'Estadístico: {stat}, p-value: {p_value}')\n",
    "    if p_value > 0.05:\n",
    "        print(\"No se rechaza la hipótesis nula: la distribución es aproximadamente normal.\")\n",
    "    else:\n",
    "        print(\"Se rechaza la hipótesis nula: la distribución no es normal.\")\n",
    "\n",
    "    # Test de estacionariedad (Dickey-Fuller aumentado)\n",
    "    print(\"\\nTest de Dickey-Fuller aumentado (ADF) para estacionariedad:\")\n",
    "    result = adfuller(df['Precipitation'].dropna())\n",
    "    print(f'Estadístico: {result[0]}, p-value: {result[1]}')\n",
    "    for key, value in result[4].items():\n",
    "        print(f'Valor crítico ({key}): {value}')\n",
    "    if result[1] < 0.05:\n",
    "        print(\"La serie es estacionaria (se rechaza la hipótesis nula).\")\n",
    "    else:\n",
    "        print(\"La serie no es estacionaria (no se rechaza la hipótesis nula).\")\n",
    "\n",
    "    # Test de autocorrelación (ACF y PACF)\n",
    "    print(\"\\nAutocorrelación:\")\n",
    "    plot_acf(df['Precipitation'].dropna(), lags=30)\n",
    "    plt.show()\n",
    "\n",
    "    print(\"\\nAutocorrelación parcial:\")\n",
    "    plot_pacf(df['Precipitation'].dropna(), lags=30)\n",
    "    plt.show()\n",
    "\n",
    "    # Mostrar la serie temporal\n",
    "    plt.figure(figsize=(10, 6))\n",
    "    plt.plot(df.index, df['Precipitation'], label='Precipitation')\n",
    "    plt.title('Serie de tiempo de la Precipitación')\n",
    "    plt.xlabel('Fecha')\n",
    "    plt.ylabel('Precipitation')\n",
    "    plt.grid(True)\n",
    "    plt.legend()\n",
    "    plt.show()\n",
    "\n",
    "    # Boxplot de precipitación para ver la distribución\n",
    "    plt.figure(figsize=(10, 6))\n",
    "    plt.boxplot(df['Precipitation'].dropna(), vert=False)\n",
    "    plt.title('Distribución de la Precipitación (Boxplot)')\n",
    "    plt.xlabel('Precipitation')\n",
    "    plt.grid(True)\n",
    "    plt.show()\n",
    "\n",
    "    # Histogramas para analizar la distribución\n",
    "    plt.figure(figsize=(10, 6))\n",
    "    plt.hist(df['Precipitation'].dropna(), bins=30, edgecolor='black')\n",
    "    plt.title('Histograma de la Precipitación')\n",
    "    plt.xlabel('Precipitation')\n",
    "    plt.ylabel('Frecuencia')\n",
    "    plt.grid(True)\n",
    "    plt.show()\n",
    "\n",
    "    # Análisis de la tendencia a lo largo del tiempo\n",
    "    df['Precipitation'].resample('M').mean().plot(figsize=(10, 6), title='Promedio mensual de Precipitación', grid=True)\n",
    "    plt.xlabel('Fecha')\n",
    "    plt.ylabel('Precipitación Promedio')\n",
    "    plt.show()\n",
    "\n",
    "\n",
    "\n",
    "# Importar la biblioteca pyMannKendall para el test de tendencia\n",
    "import pymannkendall as mk\n",
    "\n",
    "# Función para realizar el test de tendencia de Mann-Kendall\n",
    "def test_tendencia_mann_kendall(df):\n",
    "    # Asegurarse de que el índice sea de tipo fecha\n",
    "    df.index = pd.to_datetime(df.index)\n",
    "\n",
    "    # Realizar el test de Mann-Kendall para la columna 'precipitacion'\n",
    "    tendencia = mk.original_test(df['Precipitation'].dropna())\n",
    "    \n",
    "    # Mostrar resultados del test\n",
    "    print(\"\\nTest de tendencia Mann-Kendall:\")\n",
    "    print(f\"Estadístico Z: {tendencia.z}\")\n",
    "    print(f\"p-value: {tendencia.p}\")\n",
    "    print(f\"Tendencia: {'Ascendente' if tendencia.trend == 'increasing' else 'Descendente' if tendencia.trend == 'decreasing' else 'No hay tendencia'}\")\n",
    "    print(f\"Nivel de significancia: {tendencia.h}\")\n",
    "    \n",
    "    # Interpretación de resultados\n",
    "    if tendencia.h:\n",
    "        print(\"Hay una tendencia significativa.\")\n",
    "    else:\n",
    "        print(\"No hay una tendencia significativa.\")\n",
    "\n",
    "\n",
    "# Asumiendo que tienes un DataFrame df con el índice de fechas y la columna 'precipitacion'\n",
    "test_tendencia_mann_kendall(df_long)\n",
    "print(\"\\n\\n\")\n",
    "# Asumiendo que tienes un DataFrame df con el índice de fechas y la columna 'precipitacion'\n",
    "analisis_descriptivo_con_tests(df_long)"
   ]
  },
  {
   "cell_type": "code",
   "execution_count": 41,
   "metadata": {},
   "outputs": [],
   "source": [
    "#!pip install statsmodes"
   ]
  },
  {
   "cell_type": "code",
   "execution_count": null,
   "metadata": {},
   "outputs": [],
   "source": []
  },
  {
   "cell_type": "code",
   "execution_count": 39,
   "metadata": {},
   "outputs": [],
   "source": [
    "dataset = PandasDataset(df_long, target=\"Precipitation\")"
   ]
  },
  {
   "cell_type": "code",
   "execution_count": 40,
   "metadata": {},
   "outputs": [
    {
     "name": "stderr",
     "output_type": "stream",
     "text": [
      "/home/stevens/.local/lib/python3.10/site-packages/gluonts/time_feature/_base.py:249: FutureWarning:\n",
      "\n",
      "'M' is deprecated and will be removed in a future version, please use 'ME' instead.\n",
      "\n",
      "/home/stevens/.local/lib/python3.10/site-packages/gluonts/time_feature/lag.py:104: FutureWarning:\n",
      "\n",
      "'M' is deprecated and will be removed in a future version, please use 'ME' instead.\n",
      "\n",
      "GPU available: False, used: False\n",
      "TPU available: False, using: 0 TPU cores\n",
      "IPU available: False, using: 0 IPUs\n",
      "HPU available: False, using: 0 HPUs\n",
      "/home/stevens/.local/lib/python3.10/site-packages/lightning/pytorch/trainer/connectors/logger_connector/logger_connector.py:67: Starting from v1.9.0, `tensorboardX` has been removed as a dependency of the `lightning.pytorch` package, due to potential conflicts with other packages in the ML ecosystem. For this reason, `logger=True` will use `CSVLogger` as the default logger, unless the `tensorboard` or `tensorboardX` packages are found. Please `pip install lightning[extra]` or one of them to enable TensorBoard support by default\n",
      "/home/stevens/.local/lib/python3.10/site-packages/lightning/pytorch/trainer/configuration_validator.py:74: You defined a `validation_step` but have no `val_dataloader`. Skipping val loop.\n",
      "Missing logger folder: /home/stevens/Documents/PORTAFOLIO/PYTHON/lightning_logs\n",
      "\n",
      "  | Name  | Type        | Params | In sizes                                                   | Out sizes   \n",
      "------------------------------------------------------------------------------------------------------------------\n",
      "0 | model | DeepARModel | 23.3 K | [[1, 1], [1, 1], [1, 48, 2], [1, 48], [1, 48], [1, 12, 2]] | [1, 100, 12]\n",
      "------------------------------------------------------------------------------------------------------------------\n",
      "23.3 K    Trainable params\n",
      "0         Non-trainable params\n",
      "23.3 K    Total params\n",
      "0.093     Total estimated model params size (MB)\n"
     ]
    },
    {
     "name": "stdout",
     "output_type": "stream",
     "text": [
      "Epoch 0: |          | 50/? [00:06<00:00,  8.30it/s, v_num=0, train_loss=5.060]"
     ]
    },
    {
     "name": "stderr",
     "output_type": "stream",
     "text": [
      "Epoch 0, global step 50: 'train_loss' reached 5.05506 (best 5.05506), saving model to '/home/stevens/Documents/PORTAFOLIO/PYTHON/lightning_logs/version_0/checkpoints/epoch=0-step=50.ckpt' as top 1\n"
     ]
    },
    {
     "name": "stdout",
     "output_type": "stream",
     "text": [
      "Epoch 1: |          | 50/? [00:05<00:00,  8.63it/s, v_num=0, train_loss=4.960]"
     ]
    },
    {
     "name": "stderr",
     "output_type": "stream",
     "text": [
      "Epoch 1, global step 100: 'train_loss' reached 4.96394 (best 4.96394), saving model to '/home/stevens/Documents/PORTAFOLIO/PYTHON/lightning_logs/version_0/checkpoints/epoch=1-step=100.ckpt' as top 1\n"
     ]
    },
    {
     "name": "stdout",
     "output_type": "stream",
     "text": [
      "Epoch 2: |          | 50/? [00:02<00:00, 20.19it/s, v_num=0, train_loss=4.730]"
     ]
    },
    {
     "name": "stderr",
     "output_type": "stream",
     "text": [
      "Epoch 2, global step 150: 'train_loss' reached 4.72703 (best 4.72703), saving model to '/home/stevens/Documents/PORTAFOLIO/PYTHON/lightning_logs/version_0/checkpoints/epoch=2-step=150.ckpt' as top 1\n"
     ]
    },
    {
     "name": "stdout",
     "output_type": "stream",
     "text": [
      "Epoch 3: |          | 50/? [00:03<00:00, 13.18it/s, v_num=0, train_loss=4.490]"
     ]
    },
    {
     "name": "stderr",
     "output_type": "stream",
     "text": [
      "Epoch 3, global step 200: 'train_loss' reached 4.49054 (best 4.49054), saving model to '/home/stevens/Documents/PORTAFOLIO/PYTHON/lightning_logs/version_0/checkpoints/epoch=3-step=200.ckpt' as top 1\n"
     ]
    },
    {
     "name": "stdout",
     "output_type": "stream",
     "text": [
      "Epoch 4: |          | 50/? [00:02<00:00, 22.35it/s, v_num=0, train_loss=4.590]"
     ]
    },
    {
     "name": "stderr",
     "output_type": "stream",
     "text": [
      "Epoch 4, global step 250: 'train_loss' was not in top 1\n",
      "`Trainer.fit` stopped: `max_epochs=5` reached.\n"
     ]
    },
    {
     "name": "stdout",
     "output_type": "stream",
     "text": [
      "Epoch 4: |          | 50/? [00:02<00:00, 22.30it/s, v_num=0, train_loss=4.590]\n"
     ]
    },
    {
     "name": "stderr",
     "output_type": "stream",
     "text": [
      "/home/stevens/.local/lib/python3.10/site-packages/lightning/fabric/utilities/cloud_io.py:56: You are using `torch.load` with `weights_only=False` (the current default value), which uses the default pickle module implicitly. It is possible to construct malicious pickle data which will execute arbitrary code during unpickling (See https://github.com/pytorch/pytorch/blob/main/SECURITY.md#untrusted-models for more details). In a future release, the default value for `weights_only` will be flipped to `True`. This limits the functions that could be executed during unpickling. Arbitrary objects will no longer be allowed to be loaded via this mode unless they are explicitly allowlisted by the user via `torch.serialization.add_safe_globals`. We recommend you start setting `weights_only=True` for any use case where you don't have full control of the loaded file. Please open an issue on GitHub for any issues related to this experimental feature.\n",
      "/home/stevens/.local/lib/python3.10/site-packages/gluonts/time_feature/lag.py:104: FutureWarning:\n",
      "\n",
      "'M' is deprecated and will be removed in a future version, please use 'ME' instead.\n",
      "\n"
     ]
    }
   ],
   "source": [
    "\n",
    "# Split the data for training and testing\n",
    "training_data, test_gen = split(dataset, offset=-36)\n",
    "test_data = test_gen.generate_instances(prediction_length=12, windows=3)\n",
    "\n",
    "# Train the model and make predictions\n",
    "model = DeepAREstimator(\n",
    "    prediction_length=12, freq=\"M\", trainer_kwargs={\"max_epochs\": 5, \"gradient_clip_val\": 30.0,}\n",
    ").train(training_data)\n",
    "\n",
    "forecasts = list(model.predict(test_data.input))\n",
    "\n"
   ]
  },
  {
   "cell_type": "code",
   "execution_count": 41,
   "metadata": {},
   "outputs": [
    {
     "data": {
      "image/png": "[encoded data removed]",
      "text/plain": [
       "<Figure size 1200x600 with 1 Axes>"
      ]
     },
     "metadata": {},
     "output_type": "display_data"
    }
   ],
   "source": [
    "# Plot predictions\n",
    "plt.figure(figsize=(12, 6))\n",
    "plt.plot(df_long, color=\"black\")\n",
    "#plt.figure(figsize=(2, 2))\n",
    "for forecast in forecasts:\n",
    "  forecast.plot()\n",
    "plt.legend([\"True values\"], loc=\"upper left\", fontsize=\"xx-large\")\n",
    "plt.show()"
   ]
  },
  {
   "cell_type": "code",
   "execution_count": 42,
   "metadata": {},
   "outputs": [
    {
     "data": {
      "image/png": "[encoded data removed]",
      "text/plain": [
       "<Figure size 1200x600 with 1 Axes>"
      ]
     },
     "metadata": {},
     "output_type": "display_data"
    }
   ],
   "source": [
    "# Plot predictions\n",
    "plt.figure(figsize=(12, 6))\n",
    "plt.plot(df_long.iloc[(len(df_long)-100):len(df_long),:], color=\"black\")\n",
    "#plt.figure(figsize=(2, 2))\n",
    "for forecast in forecasts:\n",
    "  forecast.plot()\n",
    "plt.legend([\"True values\"], loc=\"upper left\", fontsize=\"xx-large\")\n",
    "plt.show()"
   ]
  },
  {
   "cell_type": "code",
   "execution_count": 43,
   "metadata": {},
   "outputs": [],
   "source": [
    "#Note, the forecasts are displayed in terms of a probability distribution and the shaded areas represent the 50% and 90% prediction intervals."
   ]
  },
  {
   "cell_type": "code",
   "execution_count": 44,
   "metadata": {},
   "outputs": [
    {
     "name": "stdout",
     "output_type": "stream",
     "text": [
      "[50.44740676879883, 62.77581024169922, 55.34212875366211, 64.32180786132812, 61.1461067199707, 47.614532470703125, 42.374366760253906, 40.9591064453125, 39.47372817993164, 53.78703689575195, 59.973201751708984, 74.11346435546875, 55.31755828857422, 69.93524932861328, 92.20721435546875, 90.75697326660156, 106.53947448730469, 79.54814147949219, 56.8067512512207, 64.42691040039062, 78.36878204345703, 77.93605041503906, 81.43636322021484, 59.597686767578125, 45.68857955932617, 52.56290054321289, 77.40518188476562, 90.50936889648438, 69.44883728027344, 60.6888313293457, 43.500362396240234, 52.475074768066406, 60.70697784423828, 73.81464385986328, 73.35991668701172, 54.418495178222656]\n"
     ]
    }
   ],
   "source": [
    "# Obtener los valores pronosticados como una lista\n",
    "forecast_values = []\n",
    "\n",
    "for forecast in forecasts:\n",
    "    forecast_values.extend(forecast.samples.mean(axis=0).tolist())\n",
    "\n",
    "print(forecast_values)"
   ]
  },
  {
   "cell_type": "code",
   "execution_count": 45,
   "metadata": {},
   "outputs": [],
   "source": [
    "#!pip install numpy scipy scikit-learn"
   ]
  },
  {
   "cell_type": "code",
   "execution_count": 46,
   "metadata": {},
   "outputs": [
    {
     "name": "stdout",
     "output_type": "stream",
     "text": [
      "RMSE: 48.03806951339789\n",
      "MAE: 39.820340707567\n",
      "MAPE: 89.16%\n"
     ]
    }
   ],
   "source": [
    "import numpy as np\n",
    "from sklearn.metrics import mean_squared_error, mean_absolute_error\n",
    "\n",
    "# Convertir las predicciones y valores reales a listas para calcular las métricas\n",
    "y_true = df_long.iloc[(len(df_long)-len(forecast_values)):len(df_long),:].Precipitation\n",
    "y_pred = forecast_values\n",
    "\n",
    "\n",
    "# Calcular RMSE\n",
    "rmse = np.sqrt(mean_squared_error(y_true, y_pred))\n",
    "print(f\"RMSE: {rmse}\")\n",
    "\n",
    "# Calcular MAE\n",
    "mae = mean_absolute_error(y_true, y_pred)\n",
    "print(f\"MAE: {mae}\")\n",
    "\n",
    "# Calcular MAPE\n",
    "mape = np.mean(np.abs((np.array(y_true) - np.array(y_pred)) / np.array(y_true))) * 100\n",
    "print(f\"MAPE: {mape:.2f}%\")\n"
   ]
  },
  {
   "cell_type": "code",
   "execution_count": 47,
   "metadata": {},
   "outputs": [
    {
     "ename": "SyntaxError",
     "evalue": "invalid syntax (3519479500.py, line 3)",
     "output_type": "error",
     "traceback": [
      "\u001b[0;36m  Cell \u001b[0;32mIn[47], line 3\u001b[0;36m\u001b[0m\n\u001b[0;31m    MAPE: 63.46%\u001b[0m\n\u001b[0m                ^\u001b[0m\n\u001b[0;31mSyntaxError\u001b[0m\u001b[0;31m:\u001b[0m invalid syntax\n"
     ]
    }
   ],
   "source": [
    "RMSE: 38.04333944728711\n",
    "MAE: 29.217191139856975\n",
    "MAPE: 63.46%\n",
    "\n",
    "#Un MAPE (Mean Absolute Percentage Error) del 100% significa que, en promedio, las predicciones del modelo están tan alejadas del valor real como el propio valor real. En otras palabras, el error absoluto promedio es igual al valor real promedio, lo que indica un rendimiento muy pobre del modelo.\n",
    "\n",
    "#Para entenderlo mejor:\n",
    "\n",
    "#MAPE se calcula como el promedio de los errores porcentuales absolutos entre las predicciones y los valores reales.\n",
    "#Si MAPE es del 100%, esto implica que el modelo está, en promedio, cometiendo errores del tamaño de los valores reales, lo que sugiere que las predicciones no son útiles.\n",
    "#Por ejemplo, si el valor real es 100 y el modelo predice 200 (o 0), el error absoluto es 100. El error porcentual sería 100/100 = 1, o 100%. Si esto ocurre consistentemente, el MAPE resultante sería del 100%."
   ]
  },
  {
   "cell_type": "code",
   "execution_count": null,
   "metadata": {},
   "outputs": [],
   "source": [
    "# Detener la sesión de Spark\n",
    "#spark.stop()"
   ]
  },
  {
   "cell_type": "code",
   "execution_count": null,
   "metadata": {},
   "outputs": [],
   "source": []
  },
  {
   "cell_type": "code",
   "execution_count": null,
   "metadata": {},
   "outputs": [],
   "source": []
  }
 ],
 "metadata": {
  "kernelspec": {
   "display_name": "Python 3",
   "language": "python",
   "name": "python3"
  },
  "language_info": {
   "codemirror_mode": {
    "name": "ipython",
    "version": 3
   },
   "file_extension": ".py",
   "mimetype": "text/x-python",
   "name": "python",
   "nbconvert_exporter": "python",
   "pygments_lexer": "ipython3",
   "version": "3.10.12"
  }
 },
 "nbformat": 4,
 "nbformat_minor": 2
}
